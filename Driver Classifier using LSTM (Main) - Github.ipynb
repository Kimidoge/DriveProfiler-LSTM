{
 "cells": [
  {
   "cell_type": "markdown",
   "id": "51fc35a7",
   "metadata": {},
   "source": [
    "## 1. Importing libraries and loading dataset\n",
    "- the dataset is in SQLite3 form"
   ]
  },
  {
   "cell_type": "code",
   "execution_count": 1,
   "id": "50e0afa8",
   "metadata": {},
   "outputs": [
    {
     "name": "stdout",
     "output_type": "stream",
     "text": [
      "2.5.0\n"
     ]
    },
    {
     "data": {
      "text/plain": [
       "'1.20.3'"
      ]
     },
     "execution_count": 1,
     "metadata": {},
     "output_type": "execute_result"
    }
   ],
   "source": [
    "# importing the neccessary libraries\n",
    "\n",
    "# Tensorflow and Keras library\n",
    "###############################################################\n",
    "import tensorflow as tf\n",
    "from tensorflow import keras\n",
    "from tensorflow.keras import Sequential\n",
    "from tensorflow.keras.layers import Flatten, LSTM, Dense, Dropout\n",
    "from keras.regularizers import l2 #regularization function\n",
    "from tensorflow.keras.optimizers import Adam  #perform gradient descent\n",
    "from tensorflow.math import reduce_prod\n",
    "print(tf.__version__)\n",
    "###############################################################\n",
    "# Supporting libraries\n",
    "###############################################################\n",
    "import pandas as pd #used to read dataset and preform dataframe operations\n",
    "import numpy as np  # perform basic array operations\n",
    "import sqlite3      # our raw data is in SQLite form\n",
    "import matplotlib.pyplot as plt #matplotlib\n",
    "from sklearn.preprocessing import StandardScaler, LabelEncoder, OneHotEncoder #s scaler is for normalizing data and label encoder is to label.\n",
    "\n",
    "np.version.version\n",
    "\n",
    "###############################################################\n"
   ]
  },
  {
   "cell_type": "code",
   "execution_count": 2,
   "id": "207b841e",
   "metadata": {},
   "outputs": [
    {
     "data": {
      "text/plain": [
       "'1.20.3'"
      ]
     },
     "execution_count": 2,
     "metadata": {},
     "output_type": "execute_result"
    }
   ],
   "source": [
    "np.__version__"
   ]
  },
  {
   "cell_type": "code",
   "execution_count": 3,
   "id": "ff3640e0",
   "metadata": {},
   "outputs": [
    {
     "data": {
      "text/plain": [
       "'1.3.1'"
      ]
     },
     "execution_count": 3,
     "metadata": {},
     "output_type": "execute_result"
    }
   ],
   "source": [
    "pd.__version__"
   ]
  },
  {
   "cell_type": "markdown",
   "id": "39a8653c",
   "metadata": {},
   "source": [
    "### 1.1 Import the dataset (SQLite file)"
   ]
  },
  {
   "cell_type": "code",
   "execution_count": 4,
   "id": "c4b683ed",
   "metadata": {},
   "outputs": [
    {
     "data": {
      "text/html": [
       "<div>\n",
       "<style scoped>\n",
       "    .dataframe tbody tr th:only-of-type {\n",
       "        vertical-align: middle;\n",
       "    }\n",
       "\n",
       "    .dataframe tbody tr th {\n",
       "        vertical-align: top;\n",
       "    }\n",
       "\n",
       "    .dataframe thead th {\n",
       "        text-align: right;\n",
       "    }\n",
       "</style>\n",
       "<table border=\"1\" class=\"dataframe\">\n",
       "  <thead>\n",
       "    <tr style=\"text-align: right;\">\n",
       "      <th></th>\n",
       "      <th>unit</th>\n",
       "      <th>TIME</th>\n",
       "      <th>ACCEL_X</th>\n",
       "      <th>ACCEL_Y</th>\n",
       "      <th>ACCEL_Z</th>\n",
       "      <th>GYRO_X</th>\n",
       "      <th>GYRO_Y</th>\n",
       "      <th>GYRO_Z</th>\n",
       "      <th>CURRENT_SPEED</th>\n",
       "      <th>ACTIVITY</th>\n",
       "    </tr>\n",
       "  </thead>\n",
       "  <tbody>\n",
       "    <tr>\n",
       "      <th>0</th>\n",
       "      <td>1</td>\n",
       "      <td>09:54:08</td>\n",
       "      <td>0.028730</td>\n",
       "      <td>9.651326</td>\n",
       "      <td>-0.098162</td>\n",
       "      <td>-0.001145</td>\n",
       "      <td>0.001833</td>\n",
       "      <td>0.000611</td>\n",
       "      <td>0.0</td>\n",
       "      <td>Right</td>\n",
       "    </tr>\n",
       "    <tr>\n",
       "      <th>1</th>\n",
       "      <td>2</td>\n",
       "      <td>09:54:08</td>\n",
       "      <td>0.028730</td>\n",
       "      <td>9.651326</td>\n",
       "      <td>-0.098162</td>\n",
       "      <td>-0.001145</td>\n",
       "      <td>0.001833</td>\n",
       "      <td>0.000611</td>\n",
       "      <td>0.0</td>\n",
       "      <td>Right</td>\n",
       "    </tr>\n",
       "    <tr>\n",
       "      <th>2</th>\n",
       "      <td>3</td>\n",
       "      <td>09:54:08</td>\n",
       "      <td>0.122104</td>\n",
       "      <td>9.646538</td>\n",
       "      <td>-0.663194</td>\n",
       "      <td>-0.001145</td>\n",
       "      <td>0.000000</td>\n",
       "      <td>-0.000611</td>\n",
       "      <td>0.0</td>\n",
       "      <td>Right</td>\n",
       "    </tr>\n",
       "    <tr>\n",
       "      <th>3</th>\n",
       "      <td>4</td>\n",
       "      <td>09:54:08</td>\n",
       "      <td>0.122104</td>\n",
       "      <td>9.646538</td>\n",
       "      <td>-0.663194</td>\n",
       "      <td>-0.001145</td>\n",
       "      <td>0.000000</td>\n",
       "      <td>-0.000611</td>\n",
       "      <td>0.0</td>\n",
       "      <td>Right</td>\n",
       "    </tr>\n",
       "    <tr>\n",
       "      <th>4</th>\n",
       "      <td>5</td>\n",
       "      <td>09:54:08</td>\n",
       "      <td>0.112527</td>\n",
       "      <td>9.639356</td>\n",
       "      <td>-0.962469</td>\n",
       "      <td>-0.001145</td>\n",
       "      <td>0.000000</td>\n",
       "      <td>-0.000611</td>\n",
       "      <td>0.0</td>\n",
       "      <td>Right</td>\n",
       "    </tr>\n",
       "  </tbody>\n",
       "</table>\n",
       "</div>"
      ],
      "text/plain": [
       "   unit      TIME   ACCEL_X   ACCEL_Y   ACCEL_Z    GYRO_X    GYRO_Y    GYRO_Z  \\\n",
       "0     1  09:54:08  0.028730  9.651326 -0.098162 -0.001145  0.001833  0.000611   \n",
       "1     2  09:54:08  0.028730  9.651326 -0.098162 -0.001145  0.001833  0.000611   \n",
       "2     3  09:54:08  0.122104  9.646538 -0.663194 -0.001145  0.000000 -0.000611   \n",
       "3     4  09:54:08  0.122104  9.646538 -0.663194 -0.001145  0.000000 -0.000611   \n",
       "4     5  09:54:08  0.112527  9.639356 -0.962469 -0.001145  0.000000 -0.000611   \n",
       "\n",
       "   CURRENT_SPEED ACTIVITY  \n",
       "0            0.0    Right  \n",
       "1            0.0    Right  \n",
       "2            0.0    Right  \n",
       "3            0.0    Right  \n",
       "4            0.0    Right  "
      ]
     },
     "execution_count": 4,
     "metadata": {},
     "output_type": "execute_result"
    }
   ],
   "source": [
    "file = open('TESTDATA_real.db')   ##open the file \n",
    "conn = sqlite3.connect('TESTDATA_real.db')  ## create the cursor pointing to the table\n",
    "df = pd.read_sql_query('SELECT * FROM SENSOR_TABLE', conn) #create pandas dataframe so we can manipulate\n",
    "df.insert(0, 'unit', range(1, 1+len(df))) # add unit column\n",
    "df.head() # first 5 data"
   ]
  },
  {
   "cell_type": "code",
   "execution_count": 5,
   "id": "69821eaa",
   "metadata": {},
   "outputs": [
    {
     "data": {
      "text/plain": [
       "(6448, 10)"
      ]
     },
     "execution_count": 5,
     "metadata": {},
     "output_type": "execute_result"
    }
   ],
   "source": [
    "df.shape ## 10 data column 6448 rows down"
   ]
  },
  {
   "cell_type": "code",
   "execution_count": 6,
   "id": "f4611bf7",
   "metadata": {},
   "outputs": [
    {
     "name": "stdout",
     "output_type": "stream",
     "text": [
      "<class 'pandas.core.frame.DataFrame'>\n",
      "RangeIndex: 6448 entries, 0 to 6447\n",
      "Data columns (total 10 columns):\n",
      " #   Column         Non-Null Count  Dtype  \n",
      "---  ------         --------------  -----  \n",
      " 0   unit           6448 non-null   int64  \n",
      " 1   TIME           6448 non-null   object \n",
      " 2   ACCEL_X        6448 non-null   float64\n",
      " 3   ACCEL_Y        6448 non-null   float64\n",
      " 4   ACCEL_Z        6448 non-null   float64\n",
      " 5   GYRO_X         6448 non-null   float64\n",
      " 6   GYRO_Y         6448 non-null   float64\n",
      " 7   GYRO_Z         6448 non-null   float64\n",
      " 8   CURRENT_SPEED  6448 non-null   float64\n",
      " 9   ACTIVITY       6448 non-null   object \n",
      "dtypes: float64(7), int64(1), object(2)\n",
      "memory usage: 503.9+ KB\n"
     ]
    }
   ],
   "source": [
    "df.info()"
   ]
  },
  {
   "cell_type": "code",
   "execution_count": 7,
   "id": "a08ead79",
   "metadata": {},
   "outputs": [
    {
     "data": {
      "text/html": [
       "<div>\n",
       "<style scoped>\n",
       "    .dataframe tbody tr th:only-of-type {\n",
       "        vertical-align: middle;\n",
       "    }\n",
       "\n",
       "    .dataframe tbody tr th {\n",
       "        vertical-align: top;\n",
       "    }\n",
       "\n",
       "    .dataframe thead th {\n",
       "        text-align: right;\n",
       "    }\n",
       "</style>\n",
       "<table border=\"1\" class=\"dataframe\">\n",
       "  <thead>\n",
       "    <tr style=\"text-align: right;\">\n",
       "      <th></th>\n",
       "      <th>unit</th>\n",
       "      <th>TIME</th>\n",
       "      <th>ACCEL_X</th>\n",
       "      <th>ACCEL_Y</th>\n",
       "      <th>ACCEL_Z</th>\n",
       "      <th>GYRO_X</th>\n",
       "      <th>GYRO_Y</th>\n",
       "      <th>GYRO_Z</th>\n",
       "      <th>CURRENT_SPEED</th>\n",
       "      <th>ACTIVITY</th>\n",
       "    </tr>\n",
       "  </thead>\n",
       "  <tbody>\n",
       "    <tr>\n",
       "      <th>6443</th>\n",
       "      <td>6444</td>\n",
       "      <td>10:18:39</td>\n",
       "      <td>0.251391</td>\n",
       "      <td>9.988909</td>\n",
       "      <td>0.172383</td>\n",
       "      <td>0.010461</td>\n",
       "      <td>0.000611</td>\n",
       "      <td>0.000000</td>\n",
       "      <td>0.0</td>\n",
       "      <td>Brake</td>\n",
       "    </tr>\n",
       "    <tr>\n",
       "      <th>6444</th>\n",
       "      <td>6445</td>\n",
       "      <td>10:18:39</td>\n",
       "      <td>0.263362</td>\n",
       "      <td>9.890746</td>\n",
       "      <td>-0.387861</td>\n",
       "      <td>-0.009697</td>\n",
       "      <td>0.000000</td>\n",
       "      <td>-0.000611</td>\n",
       "      <td>0.0</td>\n",
       "      <td>Brake</td>\n",
       "    </tr>\n",
       "    <tr>\n",
       "      <th>6445</th>\n",
       "      <td>6446</td>\n",
       "      <td>10:18:39</td>\n",
       "      <td>0.263362</td>\n",
       "      <td>9.890746</td>\n",
       "      <td>-0.387861</td>\n",
       "      <td>-0.009697</td>\n",
       "      <td>0.000000</td>\n",
       "      <td>-0.000611</td>\n",
       "      <td>0.0</td>\n",
       "      <td>Brake</td>\n",
       "    </tr>\n",
       "    <tr>\n",
       "      <th>6446</th>\n",
       "      <td>6447</td>\n",
       "      <td>10:18:39</td>\n",
       "      <td>0.014365</td>\n",
       "      <td>9.522039</td>\n",
       "      <td>-1.103727</td>\n",
       "      <td>0.004963</td>\n",
       "      <td>0.000611</td>\n",
       "      <td>0.000000</td>\n",
       "      <td>0.0</td>\n",
       "      <td>Brake</td>\n",
       "    </tr>\n",
       "    <tr>\n",
       "      <th>6447</th>\n",
       "      <td>6448</td>\n",
       "      <td>10:18:39</td>\n",
       "      <td>0.014365</td>\n",
       "      <td>9.522039</td>\n",
       "      <td>-1.103727</td>\n",
       "      <td>0.004963</td>\n",
       "      <td>0.000611</td>\n",
       "      <td>0.000000</td>\n",
       "      <td>0.0</td>\n",
       "      <td>Brake</td>\n",
       "    </tr>\n",
       "  </tbody>\n",
       "</table>\n",
       "</div>"
      ],
      "text/plain": [
       "      unit      TIME   ACCEL_X   ACCEL_Y   ACCEL_Z    GYRO_X    GYRO_Y  \\\n",
       "6443  6444  10:18:39  0.251391  9.988909  0.172383  0.010461  0.000611   \n",
       "6444  6445  10:18:39  0.263362  9.890746 -0.387861 -0.009697  0.000000   \n",
       "6445  6446  10:18:39  0.263362  9.890746 -0.387861 -0.009697  0.000000   \n",
       "6446  6447  10:18:39  0.014365  9.522039 -1.103727  0.004963  0.000611   \n",
       "6447  6448  10:18:39  0.014365  9.522039 -1.103727  0.004963  0.000611   \n",
       "\n",
       "        GYRO_Z  CURRENT_SPEED ACTIVITY  \n",
       "6443  0.000000            0.0    Brake  \n",
       "6444 -0.000611            0.0    Brake  \n",
       "6445 -0.000611            0.0    Brake  \n",
       "6446  0.000000            0.0    Brake  \n",
       "6447  0.000000            0.0    Brake  "
      ]
     },
     "execution_count": 7,
     "metadata": {},
     "output_type": "execute_result"
    }
   ],
   "source": [
    "df.tail() # list last 5 data"
   ]
  },
  {
   "cell_type": "code",
   "execution_count": 8,
   "id": "3af4a612",
   "metadata": {},
   "outputs": [
    {
     "data": {
      "text/plain": [
       "unit             0\n",
       "TIME             0\n",
       "ACCEL_X          0\n",
       "ACCEL_Y          0\n",
       "ACCEL_Z          0\n",
       "GYRO_X           0\n",
       "GYRO_Y           0\n",
       "GYRO_Z           0\n",
       "CURRENT_SPEED    0\n",
       "ACTIVITY         0\n",
       "dtype: int64"
      ]
     },
     "execution_count": 8,
     "metadata": {},
     "output_type": "execute_result"
    }
   ],
   "source": [
    "df.isnull().sum()  #check for NULL values"
   ]
  },
  {
   "cell_type": "code",
   "execution_count": 9,
   "id": "89811379",
   "metadata": {},
   "outputs": [
    {
     "data": {
      "text/plain": [
       "Left          1692\n",
       "Accelerate    1668\n",
       "Right         1658\n",
       "Brake         1430\n",
       "Name: ACTIVITY, dtype: int64"
      ]
     },
     "execution_count": 9,
     "metadata": {},
     "output_type": "execute_result"
    }
   ],
   "source": [
    "df['ACTIVITY'].value_counts()"
   ]
  },
  {
   "cell_type": "markdown",
   "id": "b9fa7667",
   "metadata": {},
   "source": [
    "## 2 Visualizing the data"
   ]
  },
  {
   "cell_type": "markdown",
   "id": "0de4fb24",
   "metadata": {},
   "source": [
    "### 2.1 Accelerometer plots"
   ]
  },
  {
   "cell_type": "code",
   "execution_count": 10,
   "id": "f508be61",
   "metadata": {},
   "outputs": [
    {
     "data": {
      "text/plain": [
       "<matplotlib.legend.Legend at 0x1d540ec91f0>"
      ]
     },
     "execution_count": 10,
     "metadata": {},
     "output_type": "execute_result"
    },
    {
     "data": {
      "image/png": "[encoded data removed]",
      "text/plain": [
       "<Figure size 432x288 with 1 Axes>"
      ]
     },
     "metadata": {
      "needs_background": "light"
     },
     "output_type": "display_data"
    }
   ],
   "source": [
    "# Accelerometer plot \n",
    "%matplotlib inline\n",
    "# RIGHT TURN \n",
    "plt.plot(np.arange(0,150), df.ACCEL_X[df['ACTIVITY']==\"Right\"][:150],  label = 'X-axis' )\n",
    "plt.plot(np.arange(0,150), df.ACCEL_Y[df['ACTIVITY']==\"Right\"][:150],  label = 'Y-axis' )\n",
    "plt.plot(np.arange(0,150), df.ACCEL_Z[df['ACTIVITY']==\"Right\"][:150],  label = 'Z-axis' )\n",
    "plt.title(\"Right Turn - Accelerometer\")\n",
    "plt.legend()\n"
   ]
  },
  {
   "cell_type": "code",
   "execution_count": 11,
   "id": "a942fa8e",
   "metadata": {},
   "outputs": [
    {
     "data": {
      "text/plain": [
       "<matplotlib.legend.Legend at 0x1d540fd7220>"
      ]
     },
     "execution_count": 11,
     "metadata": {},
     "output_type": "execute_result"
    },
    {
     "data": {
      "image/png": "[encoded data removed]",
      "text/plain": [
       "<Figure size 432x288 with 1 Axes>"
      ]
     },
     "metadata": {
      "needs_background": "light"
     },
     "output_type": "display_data"
    }
   ],
   "source": [
    "# LEFT TURN\n",
    "plt.plot(np.arange(0,150), df.ACCEL_X[df['ACTIVITY']==\"Left\"][:150],  label = 'X-axis' )\n",
    "plt.plot(np.arange(0,150), df.ACCEL_Y[df['ACTIVITY']==\"Left\"][:150],  label = 'Y-axis' )\n",
    "plt.plot(np.arange(0,150), df.ACCEL_Z[df['ACTIVITY']==\"Left\"][:150],  label = 'Z-axis' )\n",
    "plt.title(\"Left Turn - Accelerometer\")\n",
    "plt.legend()"
   ]
  },
  {
   "cell_type": "code",
   "execution_count": 12,
   "id": "3c8b737e",
   "metadata": {},
   "outputs": [
    {
     "data": {
      "text/plain": [
       "<matplotlib.legend.Legend at 0x1d54107ea90>"
      ]
     },
     "execution_count": 12,
     "metadata": {},
     "output_type": "execute_result"
    },
    {
     "data": {
      "image/png": "[encoded data removed]",
      "text/plain": [
       "<Figure size 432x288 with 1 Axes>"
      ]
     },
     "metadata": {
      "needs_background": "light"
     },
     "output_type": "display_data"
    }
   ],
   "source": [
    "# ACCELERATION\n",
    "plt.plot(np.arange(0,150), df.ACCEL_X[df['ACTIVITY']==\"Accelerate\"][:150],  label = 'X-axis' )\n",
    "plt.plot(np.arange(0,150), df.ACCEL_Y[df['ACTIVITY']==\"Accelerate\"][:150],  label = 'Y-axis' )\n",
    "plt.plot(np.arange(0,150), df.ACCEL_Z[df['ACTIVITY']==\"Accelerate\"][:150],  label = 'Z-axis' )\n",
    "plt.title(\"Accelerate - Accelerometer\")\n",
    "plt.legend()"
   ]
  },
  {
   "cell_type": "code",
   "execution_count": 13,
   "id": "3cf6d630",
   "metadata": {
    "scrolled": true
   },
   "outputs": [
    {
     "data": {
      "text/plain": [
       "<matplotlib.legend.Legend at 0x1d540e57760>"
      ]
     },
     "execution_count": 13,
     "metadata": {},
     "output_type": "execute_result"
    },
    {
     "data": {
      "image/png": "[encoded data removed]",
      "text/plain": [
       "<Figure size 432x288 with 1 Axes>"
      ]
     },
     "metadata": {
      "needs_background": "light"
     },
     "output_type": "display_data"
    }
   ],
   "source": [
    "# BRAKING\n",
    "plt.plot(np.arange(0,150), df.ACCEL_X[df['ACTIVITY']==\"Brake\"][:150],  label = 'X-axis' )\n",
    "plt.plot(np.arange(0,150), df.ACCEL_Y[df['ACTIVITY']==\"Brake\"][:150],  label = 'Y-axis' )\n",
    "plt.plot(np.arange(0,150), df.ACCEL_Z[df['ACTIVITY']==\"Brake\"][:150],  label = 'Z-axis' )\n",
    "plt.title(\"Brake - Accelerometer\")\n",
    "plt.legend()"
   ]
  },
  {
   "cell_type": "markdown",
   "id": "562ee9e1",
   "metadata": {},
   "source": [
    "### 2.2 Gyroscope plots"
   ]
  },
  {
   "cell_type": "code",
   "execution_count": 14,
   "id": "2221abc7",
   "metadata": {},
   "outputs": [
    {
     "data": {
      "text/plain": [
       "<matplotlib.legend.Legend at 0x1d54125c190>"
      ]
     },
     "execution_count": 14,
     "metadata": {},
     "output_type": "execute_result"
    },
    {
     "data": {
      "image/png": "[encoded data removed]",
      "text/plain": [
       "<Figure size 432x288 with 1 Axes>"
      ]
     },
     "metadata": {
      "needs_background": "light"
     },
     "output_type": "display_data"
    }
   ],
   "source": [
    "# Gyroscope plot\n",
    "\n",
    "# RIGHT TURN \n",
    "plt.plot(np.arange(0,150), df.GYRO_X[df['ACTIVITY']==\"Right\"][:150],  label = 'X-axis' )\n",
    "plt.plot(np.arange(0,150), df.GYRO_Y[df['ACTIVITY']==\"Right\"][:150],  label = 'Y-axis' )\n",
    "plt.plot(np.arange(0,150), df.GYRO_Z[df['ACTIVITY']==\"Right\"][:150],  label = 'Z-axis' )\n",
    "plt.title(\"Right Turn - Gyroscope\")\n",
    "plt.legend()\n"
   ]
  },
  {
   "cell_type": "code",
   "execution_count": 15,
   "id": "e2b03e06",
   "metadata": {},
   "outputs": [
    {
     "data": {
      "text/plain": [
       "<matplotlib.legend.Legend at 0x1d5412ef220>"
      ]
     },
     "execution_count": 15,
     "metadata": {},
     "output_type": "execute_result"
    },
    {
     "data": {
      "image/png": "[encoded data removed]",
      "text/plain": [
       "<Figure size 432x288 with 1 Axes>"
      ]
     },
     "metadata": {
      "needs_background": "light"
     },
     "output_type": "display_data"
    }
   ],
   "source": [
    "# LEFT TURN\n",
    "plt.plot(np.arange(0,150), df.GYRO_X[df['ACTIVITY']==\"Left\"][:150],  label = 'X-axis' )\n",
    "plt.plot(np.arange(0,150), df.GYRO_Y[df['ACTIVITY']==\"Left\"][:150],  label = 'Y-axis' )\n",
    "plt.plot(np.arange(0,150), df.GYRO_Z[df['ACTIVITY']==\"Left\"][:150],  label = 'Z-axis' )\n",
    "plt.title(\"Left turn - Gyroscope\")\n",
    "plt.legend()"
   ]
  },
  {
   "cell_type": "code",
   "execution_count": 16,
   "id": "47cd3c2d",
   "metadata": {},
   "outputs": [
    {
     "data": {
      "text/plain": [
       "<matplotlib.legend.Legend at 0x1d54137b340>"
      ]
     },
     "execution_count": 16,
     "metadata": {},
     "output_type": "execute_result"
    },
    {
     "data": {
      "image/png": "[encoded data removed]",
      "text/plain": [
       "<Figure size 432x288 with 1 Axes>"
      ]
     },
     "metadata": {
      "needs_background": "light"
     },
     "output_type": "display_data"
    }
   ],
   "source": [
    "# ACCELERATE\n",
    "plt.plot(np.arange(0,150), df.GYRO_X[df['ACTIVITY']==\"Accelerate\"][:150],  label = 'X-axis' )\n",
    "plt.plot(np.arange(0,150), df.GYRO_Y[df['ACTIVITY']==\"Accelerate\"][:150],  label = 'Y-axis' )\n",
    "plt.plot(np.arange(0,150), df.GYRO_Z[df['ACTIVITY']==\"Accelerate\"][:150],  label = 'Z-axis' )\n",
    "plt.title(\"Accelerate - Gyroscope\")\n",
    "plt.legend()"
   ]
  },
  {
   "cell_type": "code",
   "execution_count": 17,
   "id": "4a2ab544",
   "metadata": {},
   "outputs": [
    {
     "data": {
      "text/plain": [
       "<matplotlib.legend.Legend at 0x1d5413f9250>"
      ]
     },
     "execution_count": 17,
     "metadata": {},
     "output_type": "execute_result"
    },
    {
     "data": {
      "image/png": "[encoded data removed]",
      "text/plain": [
       "<Figure size 432x288 with 1 Axes>"
      ]
     },
     "metadata": {
      "needs_background": "light"
     },
     "output_type": "display_data"
    }
   ],
   "source": [
    "# BRAKE\n",
    "plt.plot(np.arange(0,150), df.GYRO_X[df['ACTIVITY']==\"Brake\"][:150],  label = 'X-axis' )\n",
    "plt.plot(np.arange(0,150), df.GYRO_Y[df['ACTIVITY']==\"Brake\"][:150],  label = 'Y-axis' )\n",
    "plt.plot(np.arange(0,150), df.GYRO_Z[df['ACTIVITY']==\"Brake\"][:150],  label = 'Z-axis' )\n",
    "plt.title(\"Brake - Gyroscope\")\n",
    "plt.legend()"
   ]
  },
  {
   "cell_type": "code",
   "execution_count": 18,
   "id": "c70d95fd",
   "metadata": {
    "scrolled": true
   },
   "outputs": [
    {
     "data": {
      "text/plain": [
       "Index(['Left', 'Accelerate', 'Right', 'Brake'], dtype='object')"
      ]
     },
     "execution_count": 18,
     "metadata": {},
     "output_type": "execute_result"
    }
   ],
   "source": [
    "df['ACTIVITY'].value_counts().index"
   ]
  },
  {
   "cell_type": "markdown",
   "id": "b8fdd345",
   "metadata": {},
   "source": [
    "## 3 Pre-processing"
   ]
  },
  {
   "cell_type": "markdown",
   "id": "61fe17c8",
   "metadata": {},
   "source": [
    "### Splitting data and labels"
   ]
  },
  {
   "cell_type": "code",
   "execution_count": 19,
   "id": "28389d9b",
   "metadata": {
    "scrolled": true
   },
   "outputs": [
    {
     "data": {
      "text/html": [
       "<div>\n",
       "<style scoped>\n",
       "    .dataframe tbody tr th:only-of-type {\n",
       "        vertical-align: middle;\n",
       "    }\n",
       "\n",
       "    .dataframe tbody tr th {\n",
       "        vertical-align: top;\n",
       "    }\n",
       "\n",
       "    .dataframe thead th {\n",
       "        text-align: right;\n",
       "    }\n",
       "</style>\n",
       "<table border=\"1\" class=\"dataframe\">\n",
       "  <thead>\n",
       "    <tr style=\"text-align: right;\">\n",
       "      <th></th>\n",
       "      <th>ACCEL_X</th>\n",
       "      <th>ACCEL_Y</th>\n",
       "      <th>ACCEL_Z</th>\n",
       "      <th>GYRO_X</th>\n",
       "      <th>GYRO_Y</th>\n",
       "      <th>GYRO_Z</th>\n",
       "      <th>CURRENT_SPEED</th>\n",
       "      <th>ACTIVITY</th>\n",
       "    </tr>\n",
       "  </thead>\n",
       "  <tbody>\n",
       "    <tr>\n",
       "      <th>0</th>\n",
       "      <td>0.028730</td>\n",
       "      <td>9.651326</td>\n",
       "      <td>-0.098162</td>\n",
       "      <td>-0.001145</td>\n",
       "      <td>0.001833</td>\n",
       "      <td>0.000611</td>\n",
       "      <td>0.0</td>\n",
       "      <td>Right</td>\n",
       "    </tr>\n",
       "    <tr>\n",
       "      <th>1</th>\n",
       "      <td>0.028730</td>\n",
       "      <td>9.651326</td>\n",
       "      <td>-0.098162</td>\n",
       "      <td>-0.001145</td>\n",
       "      <td>0.001833</td>\n",
       "      <td>0.000611</td>\n",
       "      <td>0.0</td>\n",
       "      <td>Right</td>\n",
       "    </tr>\n",
       "    <tr>\n",
       "      <th>2</th>\n",
       "      <td>0.122104</td>\n",
       "      <td>9.646538</td>\n",
       "      <td>-0.663194</td>\n",
       "      <td>-0.001145</td>\n",
       "      <td>0.000000</td>\n",
       "      <td>-0.000611</td>\n",
       "      <td>0.0</td>\n",
       "      <td>Right</td>\n",
       "    </tr>\n",
       "    <tr>\n",
       "      <th>3</th>\n",
       "      <td>0.122104</td>\n",
       "      <td>9.646538</td>\n",
       "      <td>-0.663194</td>\n",
       "      <td>-0.001145</td>\n",
       "      <td>0.000000</td>\n",
       "      <td>-0.000611</td>\n",
       "      <td>0.0</td>\n",
       "      <td>Right</td>\n",
       "    </tr>\n",
       "    <tr>\n",
       "      <th>4</th>\n",
       "      <td>0.112527</td>\n",
       "      <td>9.639356</td>\n",
       "      <td>-0.962469</td>\n",
       "      <td>-0.001145</td>\n",
       "      <td>0.000000</td>\n",
       "      <td>-0.000611</td>\n",
       "      <td>0.0</td>\n",
       "      <td>Right</td>\n",
       "    </tr>\n",
       "    <tr>\n",
       "      <th>...</th>\n",
       "      <td>...</td>\n",
       "      <td>...</td>\n",
       "      <td>...</td>\n",
       "      <td>...</td>\n",
       "      <td>...</td>\n",
       "      <td>...</td>\n",
       "      <td>...</td>\n",
       "      <td>...</td>\n",
       "    </tr>\n",
       "    <tr>\n",
       "      <th>6443</th>\n",
       "      <td>0.251391</td>\n",
       "      <td>9.988909</td>\n",
       "      <td>0.172383</td>\n",
       "      <td>0.010461</td>\n",
       "      <td>0.000611</td>\n",
       "      <td>0.000000</td>\n",
       "      <td>0.0</td>\n",
       "      <td>Brake</td>\n",
       "    </tr>\n",
       "    <tr>\n",
       "      <th>6444</th>\n",
       "      <td>0.263362</td>\n",
       "      <td>9.890746</td>\n",
       "      <td>-0.387861</td>\n",
       "      <td>-0.009697</td>\n",
       "      <td>0.000000</td>\n",
       "      <td>-0.000611</td>\n",
       "      <td>0.0</td>\n",
       "      <td>Brake</td>\n",
       "    </tr>\n",
       "    <tr>\n",
       "      <th>6445</th>\n",
       "      <td>0.263362</td>\n",
       "      <td>9.890746</td>\n",
       "      <td>-0.387861</td>\n",
       "      <td>-0.009697</td>\n",
       "      <td>0.000000</td>\n",
       "      <td>-0.000611</td>\n",
       "      <td>0.0</td>\n",
       "      <td>Brake</td>\n",
       "    </tr>\n",
       "    <tr>\n",
       "      <th>6446</th>\n",
       "      <td>0.014365</td>\n",
       "      <td>9.522039</td>\n",
       "      <td>-1.103727</td>\n",
       "      <td>0.004963</td>\n",
       "      <td>0.000611</td>\n",
       "      <td>0.000000</td>\n",
       "      <td>0.0</td>\n",
       "      <td>Brake</td>\n",
       "    </tr>\n",
       "    <tr>\n",
       "      <th>6447</th>\n",
       "      <td>0.014365</td>\n",
       "      <td>9.522039</td>\n",
       "      <td>-1.103727</td>\n",
       "      <td>0.004963</td>\n",
       "      <td>0.000611</td>\n",
       "      <td>0.000000</td>\n",
       "      <td>0.0</td>\n",
       "      <td>Brake</td>\n",
       "    </tr>\n",
       "  </tbody>\n",
       "</table>\n",
       "<p>6448 rows × 8 columns</p>\n",
       "</div>"
      ],
      "text/plain": [
       "       ACCEL_X   ACCEL_Y   ACCEL_Z    GYRO_X    GYRO_Y    GYRO_Z  \\\n",
       "0     0.028730  9.651326 -0.098162 -0.001145  0.001833  0.000611   \n",
       "1     0.028730  9.651326 -0.098162 -0.001145  0.001833  0.000611   \n",
       "2     0.122104  9.646538 -0.663194 -0.001145  0.000000 -0.000611   \n",
       "3     0.122104  9.646538 -0.663194 -0.001145  0.000000 -0.000611   \n",
       "4     0.112527  9.639356 -0.962469 -0.001145  0.000000 -0.000611   \n",
       "...        ...       ...       ...       ...       ...       ...   \n",
       "6443  0.251391  9.988909  0.172383  0.010461  0.000611  0.000000   \n",
       "6444  0.263362  9.890746 -0.387861 -0.009697  0.000000 -0.000611   \n",
       "6445  0.263362  9.890746 -0.387861 -0.009697  0.000000 -0.000611   \n",
       "6446  0.014365  9.522039 -1.103727  0.004963  0.000611  0.000000   \n",
       "6447  0.014365  9.522039 -1.103727  0.004963  0.000611  0.000000   \n",
       "\n",
       "      CURRENT_SPEED ACTIVITY  \n",
       "0               0.0    Right  \n",
       "1               0.0    Right  \n",
       "2               0.0    Right  \n",
       "3               0.0    Right  \n",
       "4               0.0    Right  \n",
       "...             ...      ...  \n",
       "6443            0.0    Brake  \n",
       "6444            0.0    Brake  \n",
       "6445            0.0    Brake  \n",
       "6446            0.0    Brake  \n",
       "6447            0.0    Brake  \n",
       "\n",
       "[6448 rows x 8 columns]"
      ]
     },
     "execution_count": 19,
     "metadata": {},
     "output_type": "execute_result"
    }
   ],
   "source": [
    "X_train = df[df.columns[2:11]]\n",
    "X_train"
   ]
  },
  {
   "cell_type": "code",
   "execution_count": 20,
   "id": "08cba481",
   "metadata": {},
   "outputs": [
    {
     "data": {
      "text/plain": [
       "(6448, 8)"
      ]
     },
     "execution_count": 20,
     "metadata": {},
     "output_type": "execute_result"
    }
   ],
   "source": [
    "X_train.shape"
   ]
  },
  {
   "cell_type": "code",
   "execution_count": 21,
   "id": "b6700567",
   "metadata": {
    "scrolled": false
   },
   "outputs": [
    {
     "data": {
      "text/html": [
       "<div>\n",
       "<style scoped>\n",
       "    .dataframe tbody tr th:only-of-type {\n",
       "        vertical-align: middle;\n",
       "    }\n",
       "\n",
       "    .dataframe tbody tr th {\n",
       "        vertical-align: top;\n",
       "    }\n",
       "\n",
       "    .dataframe thead th {\n",
       "        text-align: right;\n",
       "    }\n",
       "</style>\n",
       "<table border=\"1\" class=\"dataframe\">\n",
       "  <thead>\n",
       "    <tr style=\"text-align: right;\">\n",
       "      <th></th>\n",
       "    </tr>\n",
       "  </thead>\n",
       "  <tbody>\n",
       "    <tr>\n",
       "      <th>0</th>\n",
       "    </tr>\n",
       "    <tr>\n",
       "      <th>1</th>\n",
       "    </tr>\n",
       "    <tr>\n",
       "      <th>2</th>\n",
       "    </tr>\n",
       "    <tr>\n",
       "      <th>3</th>\n",
       "    </tr>\n",
       "    <tr>\n",
       "      <th>4</th>\n",
       "    </tr>\n",
       "    <tr>\n",
       "      <th>...</th>\n",
       "    </tr>\n",
       "    <tr>\n",
       "      <th>6443</th>\n",
       "    </tr>\n",
       "    <tr>\n",
       "      <th>6444</th>\n",
       "    </tr>\n",
       "    <tr>\n",
       "      <th>6445</th>\n",
       "    </tr>\n",
       "    <tr>\n",
       "      <th>6446</th>\n",
       "    </tr>\n",
       "    <tr>\n",
       "      <th>6447</th>\n",
       "    </tr>\n",
       "  </tbody>\n",
       "</table>\n",
       "<p>6448 rows × 0 columns</p>\n",
       "</div>"
      ],
      "text/plain": [
       "Empty DataFrame\n",
       "Columns: []\n",
       "Index: [0, 1, 2, 3, 4, 5, 6, 7, 8, 9, 10, 11, 12, 13, 14, 15, 16, 17, 18, 19, 20, 21, 22, 23, 24, 25, 26, 27, 28, 29, 30, 31, 32, 33, 34, 35, 36, 37, 38, 39, 40, 41, 42, 43, 44, 45, 46, 47, 48, 49, 50, 51, 52, 53, 54, 55, 56, 57, 58, 59, 60, 61, 62, 63, 64, 65, 66, 67, 68, 69, 70, 71, 72, 73, 74, 75, 76, 77, 78, 79, 80, 81, 82, 83, 84, 85, 86, 87, 88, 89, 90, 91, 92, 93, 94, 95, 96, 97, 98, 99, ...]\n",
       "\n",
       "[6448 rows x 0 columns]"
      ]
     },
     "execution_count": 21,
     "metadata": {},
     "output_type": "execute_result"
    }
   ],
   "source": [
    "y_train = df[df.columns[10:11]]\n",
    "y_train"
   ]
  },
  {
   "cell_type": "code",
   "execution_count": 22,
   "id": "9761dcb9",
   "metadata": {
    "scrolled": false
   },
   "outputs": [
    {
     "data": {
      "text/plain": [
       "(6448, 0)"
      ]
     },
     "execution_count": 22,
     "metadata": {},
     "output_type": "execute_result"
    }
   ],
   "source": [
    "y_train.shape"
   ]
  },
  {
   "cell_type": "code",
   "execution_count": 23,
   "id": "3694e5e2",
   "metadata": {},
   "outputs": [
    {
     "data": {
      "text/html": [
       "<div>\n",
       "<style scoped>\n",
       "    .dataframe tbody tr th:only-of-type {\n",
       "        vertical-align: middle;\n",
       "    }\n",
       "\n",
       "    .dataframe tbody tr th {\n",
       "        vertical-align: top;\n",
       "    }\n",
       "\n",
       "    .dataframe thead th {\n",
       "        text-align: right;\n",
       "    }\n",
       "</style>\n",
       "<table border=\"1\" class=\"dataframe\">\n",
       "  <thead>\n",
       "    <tr style=\"text-align: right;\">\n",
       "      <th></th>\n",
       "    </tr>\n",
       "  </thead>\n",
       "  <tbody>\n",
       "    <tr>\n",
       "      <th>0</th>\n",
       "    </tr>\n",
       "    <tr>\n",
       "      <th>1</th>\n",
       "    </tr>\n",
       "    <tr>\n",
       "      <th>2</th>\n",
       "    </tr>\n",
       "    <tr>\n",
       "      <th>3</th>\n",
       "    </tr>\n",
       "    <tr>\n",
       "      <th>4</th>\n",
       "    </tr>\n",
       "    <tr>\n",
       "      <th>...</th>\n",
       "    </tr>\n",
       "    <tr>\n",
       "      <th>6443</th>\n",
       "    </tr>\n",
       "    <tr>\n",
       "      <th>6444</th>\n",
       "    </tr>\n",
       "    <tr>\n",
       "      <th>6445</th>\n",
       "    </tr>\n",
       "    <tr>\n",
       "      <th>6446</th>\n",
       "    </tr>\n",
       "    <tr>\n",
       "      <th>6447</th>\n",
       "    </tr>\n",
       "  </tbody>\n",
       "</table>\n",
       "<p>6448 rows × 0 columns</p>\n",
       "</div>"
      ],
      "text/plain": [
       "Empty DataFrame\n",
       "Columns: []\n",
       "Index: [0, 1, 2, 3, 4, 5, 6, 7, 8, 9, 10, 11, 12, 13, 14, 15, 16, 17, 18, 19, 20, 21, 22, 23, 24, 25, 26, 27, 28, 29, 30, 31, 32, 33, 34, 35, 36, 37, 38, 39, 40, 41, 42, 43, 44, 45, 46, 47, 48, 49, 50, 51, 52, 53, 54, 55, 56, 57, 58, 59, 60, 61, 62, 63, 64, 65, 66, 67, 68, 69, 70, 71, 72, 73, 74, 75, 76, 77, 78, 79, 80, 81, 82, 83, 84, 85, 86, 87, 88, 89, 90, 91, 92, 93, 94, 95, 96, 97, 98, 99, ...]\n",
       "\n",
       "[6448 rows x 0 columns]"
      ]
     },
     "execution_count": 23,
     "metadata": {},
     "output_type": "execute_result"
    }
   ],
   "source": [
    "y_train"
   ]
  },
  {
   "cell_type": "code",
   "execution_count": 24,
   "id": "fbfc062b",
   "metadata": {},
   "outputs": [
    {
     "data": {
      "text/plain": [
       "(6448, 8)"
      ]
     },
     "execution_count": 24,
     "metadata": {},
     "output_type": "execute_result"
    }
   ],
   "source": [
    "X_train.shape"
   ]
  },
  {
   "cell_type": "markdown",
   "id": "fddbc9c7",
   "metadata": {},
   "source": [
    "### Create time series"
   ]
  },
  {
   "cell_type": "code",
   "execution_count": 25,
   "id": "9aaf3f6a",
   "metadata": {},
   "outputs": [],
   "source": [
    "from scipy import stats\n",
    "\n",
    "def create_dataset(X, y, time_steps=1, step=1):\n",
    "    Xs, ys = [], []\n",
    "    for i in range(0, len(X) - time_steps, step):\n",
    "        v = X.iloc[i:(i + time_steps)].values\n",
    "        labels = y.iloc[i: i + time_steps]\n",
    "        Xs.append(v)        \n",
    "        ys.append(stats.mode(labels)[0][0])\n",
    "    return np.array(Xs), np.array(ys).reshape(-1, 1)\n",
    "\n",
    "TIME_STEPS = 50\n",
    "STEP = 6\n",
    "\n",
    "X_train, y_train = create_dataset(\n",
    "    X_train[['ACCEL_X', 'ACCEL_Y', 'ACCEL_Z', 'GYRO_X', 'GYRO_Y', 'GYRO_Z']], \n",
    "    X_train.ACTIVITY, \n",
    "    TIME_STEPS, \n",
    "    STEP\n",
    ")\n",
    "\n"
   ]
  },
  {
   "cell_type": "code",
   "execution_count": 26,
   "id": "7a5fb2e9",
   "metadata": {},
   "outputs": [
    {
     "data": {
      "text/plain": [
       "((1067, 50, 6), (1067, 1))"
      ]
     },
     "execution_count": 26,
     "metadata": {},
     "output_type": "execute_result"
    }
   ],
   "source": [
    "X_train.shape, y_train.shape"
   ]
  },
  {
   "cell_type": "code",
   "execution_count": 27,
   "id": "9e5d94bc",
   "metadata": {
    "scrolled": false
   },
   "outputs": [
    {
     "data": {
      "text/plain": [
       "array([['Right'],\n",
       "       ['Right'],\n",
       "       ['Right'],\n",
       "       ...,\n",
       "       ['Brake'],\n",
       "       ['Brake'],\n",
       "       ['Brake']], dtype='<U10')"
      ]
     },
     "execution_count": 27,
     "metadata": {},
     "output_type": "execute_result"
    }
   ],
   "source": [
    "y_train"
   ]
  },
  {
   "cell_type": "code",
   "execution_count": 28,
   "id": "ec01b0ee",
   "metadata": {
    "scrolled": true
   },
   "outputs": [
    {
     "name": "stdout",
     "output_type": "stream",
     "text": [
      "[['Right']\n",
      " ['Right']\n",
      " ['Right']\n",
      " ...\n",
      " ['Brake']\n",
      " ['Brake']\n",
      " ['Brake']]\n"
     ]
    }
   ],
   "source": [
    "print(y_train)"
   ]
  },
  {
   "cell_type": "code",
   "execution_count": 29,
   "id": "2dc6bd7f",
   "metadata": {},
   "outputs": [
    {
     "data": {
      "text/plain": [
       "(1067, 50, 6)"
      ]
     },
     "execution_count": 29,
     "metadata": {},
     "output_type": "execute_result"
    }
   ],
   "source": [
    "X_train.shape"
   ]
  },
  {
   "cell_type": "markdown",
   "id": "450e885f",
   "metadata": {},
   "source": [
    "## One hot encoding"
   ]
  },
  {
   "cell_type": "code",
   "execution_count": 30,
   "id": "19981864",
   "metadata": {},
   "outputs": [],
   "source": [
    "enc = OneHotEncoder(handle_unknown='ignore', sparse=False)\n",
    "enc = enc.fit(y_train)\n",
    "y_train = enc.transform(y_train)\n"
   ]
  },
  {
   "cell_type": "code",
   "execution_count": 31,
   "id": "789e1a08",
   "metadata": {
    "scrolled": true
   },
   "outputs": [
    {
     "data": {
      "text/plain": [
       "array([[0., 0., 0., 1.],\n",
       "       [0., 0., 0., 1.],\n",
       "       [0., 0., 0., 1.],\n",
       "       ...,\n",
       "       [0., 1., 0., 0.],\n",
       "       [0., 1., 0., 0.],\n",
       "       [0., 1., 0., 0.]])"
      ]
     },
     "execution_count": 31,
     "metadata": {},
     "output_type": "execute_result"
    }
   ],
   "source": [
    "y_train"
   ]
  },
  {
   "cell_type": "code",
   "execution_count": 32,
   "id": "23b14441",
   "metadata": {},
   "outputs": [
    {
     "name": "stdout",
     "output_type": "stream",
     "text": [
      "(1067, 50, 6) (1067, 4)\n"
     ]
    }
   ],
   "source": [
    "print(X_train.shape, y_train.shape)"
   ]
  },
  {
   "cell_type": "code",
   "execution_count": 33,
   "id": "389d2e14",
   "metadata": {},
   "outputs": [
    {
     "data": {
      "text/plain": [
       "array(['Accelerate', 'Brake', 'Left', 'Right'], dtype='<U10')"
      ]
     },
     "execution_count": 33,
     "metadata": {},
     "output_type": "execute_result"
    }
   ],
   "source": [
    "enc.categories_[0]"
   ]
  },
  {
   "cell_type": "code",
   "execution_count": 34,
   "id": "62b9b480",
   "metadata": {
    "scrolled": true
   },
   "outputs": [
    {
     "data": {
      "text/plain": [
       "False"
      ]
     },
     "execution_count": 34,
     "metadata": {},
     "output_type": "execute_result"
    }
   ],
   "source": [
    "enc.sparse"
   ]
  },
  {
   "cell_type": "code",
   "execution_count": 35,
   "id": "07318ea6",
   "metadata": {
    "scrolled": true
   },
   "outputs": [
    {
     "name": "stdout",
     "output_type": "stream",
     "text": [
      "[[0. 0. 0. 1.]\n",
      " [0. 0. 0. 1.]\n",
      " [0. 0. 0. 1.]\n",
      " ...\n",
      " [0. 1. 0. 0.]\n",
      " [0. 1. 0. 0.]\n",
      " [0. 1. 0. 0.]]\n"
     ]
    }
   ],
   "source": [
    "print(y_train)"
   ]
  },
  {
   "cell_type": "code",
   "execution_count": 36,
   "id": "8cb23cd4",
   "metadata": {},
   "outputs": [
    {
     "name": "stdout",
     "output_type": "stream",
     "text": [
      "['Accelerate' 'Brake' 'Left' 'Right']\n"
     ]
    }
   ],
   "source": [
    "print(enc.categories_[0])"
   ]
  },
  {
   "cell_type": "markdown",
   "id": "3460e635",
   "metadata": {},
   "source": [
    "#### 1.4.4 Split into training data and validation data  !!!! try use train test split keras"
   ]
  },
  {
   "cell_type": "code",
   "execution_count": 37,
   "id": "d7618f3d",
   "metadata": {},
   "outputs": [],
   "source": [
    "from sklearn.model_selection import train_test_split\n",
    "X_train, X_test, y_train, y_test = train_test_split(X_train, y_train, test_size=0.3, random_state=0, stratify=y_train )"
   ]
  },
  {
   "cell_type": "code",
   "execution_count": 38,
   "id": "8555476d",
   "metadata": {},
   "outputs": [
    {
     "name": "stdout",
     "output_type": "stream",
     "text": [
      "(746, 50, 6) (746, 4)\n"
     ]
    }
   ],
   "source": [
    "print(X_train.shape, y_train.shape)"
   ]
  },
  {
   "cell_type": "code",
   "execution_count": 39,
   "id": "79e69887",
   "metadata": {},
   "outputs": [
    {
     "data": {
      "text/plain": [
       "2"
      ]
     },
     "execution_count": 39,
     "metadata": {},
     "output_type": "execute_result"
    }
   ],
   "source": [
    "len(np.unique(y_train))"
   ]
  },
  {
   "cell_type": "code",
   "execution_count": 40,
   "id": "c9e15151",
   "metadata": {
    "scrolled": true
   },
   "outputs": [
    {
     "data": {
      "text/plain": [
       "2"
      ]
     },
     "execution_count": 40,
     "metadata": {},
     "output_type": "execute_result"
    }
   ],
   "source": [
    "y_train.ndim"
   ]
  },
  {
   "cell_type": "code",
   "execution_count": 41,
   "id": "e66bc5ee",
   "metadata": {
    "scrolled": true
   },
   "outputs": [
    {
     "data": {
      "text/plain": [
       "2"
      ]
     },
     "execution_count": 41,
     "metadata": {},
     "output_type": "execute_result"
    }
   ],
   "source": [
    "y_test.ndim"
   ]
  },
  {
   "cell_type": "markdown",
   "id": "af0db70f",
   "metadata": {},
   "source": [
    "#### The labels are encoded as follows:\n",
    "- [0,0,0,1] = Right\n",
    "- [0,0,1,0] = Left\n",
    "- [0,1,0,0] = Brake\n",
    "- [1,0,0,0] = Accelerate"
   ]
  },
  {
   "cell_type": "markdown",
   "id": "6d290c14",
   "metadata": {},
   "source": [
    "## Scaling\n",
    "-StandardScale() will make the:\n",
    "- mean = 0\n",
    "- variance = 1\n",
    "\n",
    "https://towardsdatascience.com/what-and-why-behind-fit-transform-vs-transform-in-scikit-learn-78f915cf96fe\n",
    "\n",
    "how to make 3d input inside standard scaler:\n",
    "https://newbedev.com/how-to-standard-scale-a-3d-matrix"
   ]
  },
  {
   "cell_type": "code",
   "execution_count": 42,
   "id": "952882e3",
   "metadata": {},
   "outputs": [],
   "source": [
    "scaler = StandardScaler()\n",
    "# standardscaler only accept 2D, so we need to convert it into 3D then back to 3D\n",
    "# we only use fit_transform() on training data, so that it will remember the mean and std deviation which will be used in the testing set\n",
    "X_train_scaled = scaler.fit_transform(X_train.reshape(-1, X_train.shape[-1])).reshape(X_train.shape)  "
   ]
  },
  {
   "cell_type": "code",
   "execution_count": 43,
   "id": "b8525393",
   "metadata": {},
   "outputs": [
    {
     "data": {
      "text/plain": [
       "(746, 50, 6)"
      ]
     },
     "execution_count": 43,
     "metadata": {},
     "output_type": "execute_result"
    }
   ],
   "source": [
    "X_train_scaled.shape  #back to 3D"
   ]
  },
  {
   "cell_type": "code",
   "execution_count": 44,
   "id": "ae9ff572",
   "metadata": {},
   "outputs": [
    {
     "data": {
      "text/plain": [
       "array([-9.66795543e-04,  9.80119899e+00, -2.42860247e-01, -4.09775121e-03,\n",
       "        2.30926722e-03, -1.42478996e-03])"
      ]
     },
     "execution_count": 44,
     "metadata": {},
     "output_type": "execute_result"
    }
   ],
   "source": [
    "scaler.mean_"
   ]
  },
  {
   "cell_type": "code",
   "execution_count": 45,
   "id": "046b367f",
   "metadata": {
    "scrolled": true
   },
   "outputs": [
    {
     "data": {
      "text/plain": [
       "(746, 50, 6)"
      ]
     },
     "execution_count": 45,
     "metadata": {},
     "output_type": "execute_result"
    }
   ],
   "source": [
    "X_train.shape"
   ]
  },
  {
   "cell_type": "code",
   "execution_count": 46,
   "id": "7faf982a",
   "metadata": {
    "scrolled": true
   },
   "outputs": [
    {
     "name": "stdout",
     "output_type": "stream",
     "text": [
      "[[-2.20035490e-02  9.78139953e+00 -2.02239437e-01 -4.23572813e-03\n",
      "  -2.88400432e-03 -1.72942012e-03]\n",
      " [-2.20035490e-02  9.78139953e+00 -2.02239437e-01 -4.23900354e-03\n",
      "  -2.88727973e-03 -1.68602084e-03]\n",
      " [ 1.54050490e-03  9.80292487e+00 -2.31753749e-01 -4.31433815e-03\n",
      "  -1.70567337e-03 -9.86719314e-04]\n",
      " [ 1.54050490e-03  9.80292487e+00 -2.31753749e-01 -4.48384097e-03\n",
      "  -1.78018911e-03 -1.13247536e-03]\n",
      " [-1.08637704e-02  9.83823453e+00 -2.11979923e-01 -3.74523449e-03\n",
      "  -8.92550981e-04 -1.79247186e-03]\n",
      " [-1.08637704e-02  9.83823453e+00 -2.11979923e-01 -3.82138793e-03\n",
      "  -7.89375322e-04 -1.69011508e-03]\n",
      " [-4.24922681e-02  9.78131607e+00 -2.37254236e-01 -4.32907750e-03\n",
      "   1.41825556e-03 -2.19043503e-03]\n",
      " [-4.24922681e-02  9.78131607e+00 -2.37254236e-01 -4.32170781e-03\n",
      "   1.43135724e-03 -2.20189900e-03]\n",
      " [-1.61400002e-02  9.80883334e+00 -2.42587834e-01 -4.32416441e-03\n",
      "   2.71613945e-03 -1.06860473e-03]\n",
      " [-1.61400002e-02  9.80883334e+00 -2.42587834e-01 -4.52232713e-03\n",
      "   2.76281414e-03 -1.20044025e-03]\n",
      " [-1.20223577e-02  9.83769856e+00 -2.07836606e-01 -3.52004957e-03\n",
      "   4.20645448e-03 -1.30689133e-03]\n",
      " [-1.20223577e-02  9.83769856e+00 -2.07836606e-01 -3.58146364e-03\n",
      "   4.31781868e-03 -1.19552715e-03]\n",
      " [-5.39401460e-02  9.76598485e+00 -2.67034126e-01 -3.33908275e-03\n",
      "   6.30026455e-03 -2.53517267e-03]\n",
      " [-5.39401460e-02  9.76598485e+00 -2.67034126e-01 -3.33171306e-03\n",
      "   6.31336622e-03 -2.54663663e-03]\n",
      " [-3.60221445e-02  9.80947522e+00 -2.48791977e-01 -2.95913445e-03\n",
      "   7.50234238e-03 -1.14557705e-03]\n",
      " [-3.60221445e-02  9.80947522e+00 -2.48791977e-01 -3.12863727e-03\n",
      "   7.42782664e-03 -1.29133310e-03]\n",
      " [-1.51515088e-02  9.82733867e+00 -2.57980047e-01 -3.59128990e-03\n",
      "   8.82561065e-03 -1.64999122e-03]\n",
      " [-1.51515088e-02  9.82733867e+00 -2.57980047e-01 -3.66744334e-03\n",
      "   8.92878631e-03 -1.54763444e-03]\n",
      " [-4.36669016e-02  9.77669135e+00 -2.62524538e-01 -4.43798513e-03\n",
      "   9.98347069e-03 -2.58757936e-03]\n",
      " [-4.36669016e-02  9.77669135e+00 -2.62524538e-01 -4.43389086e-03\n",
      "   9.99329695e-03 -2.55564405e-03]\n",
      " [-1.67786685e-02  9.79898054e+00 -2.68847830e-01 -4.43307202e-03\n",
      "   1.01668939e-02 -1.05550308e-03]\n",
      " [-1.67786685e-02  9.79898054e+00 -2.68847830e-01 -4.60257484e-03\n",
      "   1.00923782e-02 -1.20125913e-03]\n",
      " [ 2.61789600e-02  9.81668672e+00 -2.40639737e-01 -4.83676716e-03\n",
      "   8.54228751e-03  2.63671096e-04]\n",
      " [ 2.61789600e-02  9.81668672e+00 -2.40639737e-01 -4.88098528e-03\n",
      "   8.64955744e-03  3.14440060e-04]\n",
      " [-3.22928391e-02  9.77240360e+00 -2.71819320e-01 -3.96714396e-03\n",
      "   8.10338125e-03 -2.39023545e-03]\n",
      " [-3.22928391e-02  9.77240360e+00 -2.71819320e-01 -3.96304969e-03\n",
      "   8.11320751e-03 -2.35830014e-03]\n",
      " [ 1.78826965e-02  9.79878797e+00 -2.54212229e-01 -4.02282607e-03\n",
      "   6.59750826e-03 -8.86819080e-04]\n",
      " [ 1.78826965e-02  9.79878797e+00 -2.54212229e-01 -4.03265232e-03\n",
      "   6.47631783e-03 -9.15478976e-04]\n",
      " [ 4.29736751e-02  9.82784896e+00 -2.56157117e-01 -3.99826044e-03\n",
      "   4.84925486e-03 -1.16277299e-03]\n",
      " [ 4.29736751e-02  9.82784896e+00 -2.56157117e-01 -4.04247857e-03\n",
      "   4.95652479e-03 -1.11200402e-03]\n",
      " [ 8.82580930e-03  9.78512242e+00 -2.54488637e-01 -4.03101456e-03\n",
      "   3.24102493e-03 -1.65981750e-03]\n",
      " [ 8.82580930e-03  9.78512242e+00 -2.54488637e-01 -4.02692029e-03\n",
      "   3.25085119e-03 -1.62788219e-03]\n",
      " [ 4.32561001e-02  9.80406742e+00 -2.39558976e-01 -3.72148770e-03\n",
      "   1.40761063e-03 -4.14340239e-04]\n",
      " [ 4.32561001e-02  9.80406742e+00 -2.39558976e-01 -3.87051916e-03\n",
      "   1.31180469e-03 -5.83843059e-04]\n",
      " [ 4.92833267e-02  9.82338471e+00 -2.29682894e-01 -3.94257835e-03\n",
      "  -6.82105466e-04 -1.40924809e-03]\n",
      " [ 4.92833267e-02  9.82338471e+00 -2.29682894e-01 -3.98679648e-03\n",
      "  -5.74835537e-04 -1.35847912e-03]\n",
      " [-2.29182241e-02  9.78262552e+00 -2.42424556e-01 -4.61158221e-03\n",
      "  -1.27823144e-03 -3.03631146e-03]\n",
      " [-2.29182241e-02  9.78262552e+00 -2.42424556e-01 -4.60748794e-03\n",
      "  -1.26840518e-03 -3.00437615e-03]\n",
      " [ 2.14547432e-02  9.80056596e+00 -2.35507929e-01 -4.22835846e-03\n",
      "  -2.35420578e-03 -6.52626834e-04]\n",
      " [ 2.14547432e-02  9.80056596e+00 -2.35507929e-01 -4.39786128e-03\n",
      "  -2.42872152e-03 -7.98382884e-04]\n",
      " [ 3.23473980e-02  9.83692190e+00 -2.30584732e-01 -3.95076690e-03\n",
      "  -2.94623722e-03 -6.18234932e-04]\n",
      " [ 3.23473980e-02  9.83692190e+00 -2.30584732e-01 -4.02692034e-03\n",
      "  -2.84306156e-03 -5.15878153e-04]\n",
      " [-8.84506775e-03  9.76348794e+00 -2.43965062e-01 -4.05230477e-03\n",
      "  -2.37222066e-03 -2.64735568e-03]\n",
      " [-8.84506775e-03  9.76348794e+00 -2.43965062e-01 -4.04821050e-03\n",
      "  -2.36239440e-03 -2.61542037e-03]\n",
      " [ 1.40474803e-02  9.79841246e+00 -2.65295039e-01 -3.89672252e-03\n",
      "  -3.21072755e-03 -6.69003895e-04]\n",
      " [ 1.40474803e-02  9.79841246e+00 -2.65295039e-01 -4.07441388e-03\n",
      "  -3.18534307e-03 -8.24586195e-04]\n",
      " [ 4.97615245e-02  9.81465519e+00 -2.22705690e-01 -4.41341951e-03\n",
      "  -4.13193849e-03 -5.24066662e-05]\n",
      " [ 4.97615245e-02  9.81465519e+00 -2.22705690e-01 -4.48957296e-03\n",
      "  -4.02876283e-03  4.99501129e-05]\n",
      " [ 1.41533833e-03  9.77612651e+00 -2.45633942e-01 -4.70165617e-03\n",
      "  -3.90839105e-03 -2.12820211e-03]\n",
      " [ 1.41533833e-03  9.77612651e+00 -2.45633942e-01 -4.70165617e-03\n",
      "  -3.90839105e-03 -2.12820211e-03]]\n"
     ]
    }
   ],
   "source": [
    "print(X_train.mean(axis = 0))"
   ]
  },
  {
   "cell_type": "code",
   "execution_count": 47,
   "id": "026a712b",
   "metadata": {
    "scrolled": true
   },
   "outputs": [
    {
     "data": {
      "text/plain": [
       "array([[[-1.73691452e-01, -1.72058098e-01,  2.34306713e-01,\n",
       "         -1.39951591e+00,  2.20522082e-01, -6.69991927e-02],\n",
       "        [-1.73691452e-01, -1.72058098e-01,  2.34306713e-01,\n",
       "         -1.39951591e+00,  2.20522082e-01, -6.69991927e-02],\n",
       "        [ 6.49969579e-01,  1.17835238e+00,  7.62003869e-01,\n",
       "          4.36276370e-01,  1.16010689e-02, -1.67463308e-01],\n",
       "        ...,\n",
       "        [-3.62496261e-01,  9.76880935e-01, -1.92786303e-01,\n",
       "         -5.15615899e-01,  7.15594121e-03, -5.19087715e-01],\n",
       "        [ 6.99530853e-01, -2.86408457e-01, -4.20569257e-01,\n",
       "         -1.26353131e+00,  1.82687622e-02, -7.70248016e-01],\n",
       "        [ 6.99530853e-01, -2.86408457e-01, -4.20569257e-01,\n",
       "         -1.26353131e+00,  1.82687622e-02, -7.70248016e-01]],\n",
       "\n",
       "       [[ 1.34146719e+00,  3.18010222e-01,  1.32197029e+00,\n",
       "         -1.60349286e+00, -1.25303785e+00, -8.95828167e-01],\n",
       "        [ 1.34146719e+00,  3.18010222e-01,  1.32197029e+00,\n",
       "         -1.60349286e+00, -1.25303785e+00, -8.95828167e-01],\n",
       "        [ 2.45541558e+00,  3.83352664e-01,  1.50229836e+00,\n",
       "          1.64307149e-01, -1.39083686e+00,  1.36461439e+00],\n",
       "        ...,\n",
       "        [ 1.98340353e+00,  3.56125562e-01, -2.80103106e-01,\n",
       "         -1.16154288e+00, -2.88445077e-01,  1.69112283e+00],\n",
       "        [ 1.31314650e+00, -7.43805555e-01, -4.68024037e-01,\n",
       "         -7.19592800e-01, -5.24036890e-01, -4.93971669e-01],\n",
       "        [ 1.31314650e+00, -7.43805555e-01, -4.68024037e-01,\n",
       "         -7.19592800e-01, -5.24036890e-01, -4.93971669e-01]],\n",
       "\n",
       "       [[-1.45284407e+00, -1.38633957e+00, -8.00207451e-01,\n",
       "          5.04268683e-01,  1.97634770e+00, -5.94435775e-01],\n",
       "        [-1.45284407e+00, -1.38633957e+00, -8.00207451e-01,\n",
       "          5.04268683e-01,  1.97634770e+00, -5.94435775e-01],\n",
       "        [-7.33025704e-01,  1.58674373e+00,  7.86680330e-01,\n",
       "          6.23186921e-02,  1.93411893e+00, -9.96292273e-01],\n",
       "        ...,\n",
       "        [-1.41272309e+00, -9.45279171e-01, -4.18671068e-01,\n",
       "         -7.36659214e-02,  1.89189037e+00, -9.71176227e-01],\n",
       "        [-1.28291978e+00, -2.04729319e-01, -7.13020681e-02,\n",
       "         -5.67362117e-03,  1.95856718e+00, -4.18623609e-01],\n",
       "        [-1.28291978e+00, -2.04729319e-01, -7.13020681e-02,\n",
       "         -5.67362117e-03,  1.95856718e+00, -4.18623609e-01]],\n",
       "\n",
       "       ...,\n",
       "\n",
       "       [[ 4.37564132e-01,  1.00202080e-01, -4.88904120e-01,\n",
       "         -5.49612075e-01, -1.39533294e-01,  3.85089310e-01],\n",
       "        [ 4.37564132e-01,  1.00202080e-01, -4.88904120e-01,\n",
       "         -5.49612075e-01, -1.39533294e-01,  3.85089310e-01],\n",
       "        [ 3.54962047e-01,  3.56125562e-01, -1.45331522e-01,\n",
       "          1.32017631e+00, -9.95271341e-02,  8.34889106e-03],\n",
       "        ...,\n",
       "        [-1.24130177e-01,  9.71434647e-01,  1.01433331e-01,\n",
       "          2.83225290e-02, -9.90775276e-01,  1.03810603e+00],\n",
       "        [-3.62496261e-01, -1.37544917e+00, -9.42571839e-01,\n",
       "          1.64307149e-01, -6.72948646e-01, -6.69991927e-02],\n",
       "        [-3.62496261e-01, -1.37544917e+00, -9.42571839e-01,\n",
       "          1.64307149e-01, -6.72948646e-01, -6.69991927e-02]],\n",
       "\n",
       "       [[-1.80771626e-01, -4.68195006e-02,  8.15153217e-01,\n",
       "         -2.69136966e+00,  5.60523528e-02,  4.35321363e-01],\n",
       "        [-1.80771626e-01, -4.68195006e-02,  8.15153217e-01,\n",
       "         -2.69136966e+00,  5.60523528e-02,  4.35321363e-01],\n",
       "        [ 1.23290441e+00, -2.67140978e+00,  8.29196820e-04,\n",
       "         -2.77642822e-01, -2.39599562e-02,  1.49019462e+00],\n",
       "        ...,\n",
       "        [ 3.59682163e-01,  1.87325336e-01,  5.53202832e-01,\n",
       "         -8.55577504e-01, -3.06276477e-02, -1.17231255e-01],\n",
       "        [-1.06815428e+00, -1.12496980e+00, -6.56075002e-02,\n",
       "         -2.65737349e+00, -6.17944341e-03, -2.00093340e+00],\n",
       "        [-1.06815428e+00, -1.12496980e+00, -6.56075002e-02,\n",
       "         -2.65737349e+00, -6.17944341e-03, -2.00093340e+00]],\n",
       "\n",
       "       [[-2.13812466e-01, -4.55208682e-01, -9.02709769e-01,\n",
       "          2.66295606e-01, -6.17944341e-03,  3.34649198e-02],\n",
       "        [-2.13812466e-01, -4.55208682e-01, -9.02709769e-01,\n",
       "          2.66295606e-01, -6.17944341e-03,  3.34649198e-02],\n",
       "        [-4.62481932e-02, -3.89866240e-01, -6.38861265e-01,\n",
       "          2.32299453e-01, -8.40200748e-03,  5.85809485e-02],\n",
       "        ...,\n",
       "        [ 1.80317586e-01,  1.04766750e+00,  3.27318078e-01,\n",
       "          8.78226386e-01, -2.84050839e-02, -1.67463308e-01],\n",
       "        [-3.24735305e-01,  3.01673527e-01, -1.81527200e-02,\n",
       "          4.36276370e-01, -3.72953393e-02, -7.45131971e-01],\n",
       "        [-3.24735305e-01,  3.01673527e-01, -1.81527200e-02,\n",
       "          4.36276370e-01, -3.72953393e-02, -7.45131971e-01]]])"
      ]
     },
     "execution_count": 47,
     "metadata": {},
     "output_type": "execute_result"
    }
   ],
   "source": [
    "X_train_scaled"
   ]
  },
  {
   "cell_type": "code",
   "execution_count": 48,
   "id": "5bbc1991",
   "metadata": {
    "scrolled": true
   },
   "outputs": [
    {
     "name": "stdout",
     "output_type": "stream",
     "text": [
      "[[-0.02073677 -0.04503055  0.03220533 -0.00767875 -0.01889513 -0.01252502]\n",
      " [-0.02073677 -0.04503055  0.03220533 -0.00786104 -0.01890705 -0.01074064]\n",
      " [ 0.00247155  0.00392522  0.00880555 -0.0120536  -0.01460791  0.01801149]\n",
      " [ 0.00247155  0.00392522  0.00880555 -0.02148684 -0.01487902  0.01201866]\n",
      " [-0.00975584  0.0842311   0.0244828   0.01961842 -0.01164945 -0.01511742]\n",
      " [-0.00975584  0.0842311   0.0244828   0.0153803  -0.01127406 -0.01090897]\n",
      " [-0.04093332 -0.04522035  0.0044446  -0.01287388 -0.00324185 -0.03147988]\n",
      " [-0.04093332 -0.04522035  0.0044446  -0.01246374 -0.00319418 -0.03195123]\n",
      " [-0.01495683  0.01736304  0.00021598 -0.01260045  0.00148036  0.01464473]\n",
      " [-0.01495683  0.01736304  0.00021598 -0.02362869  0.00165018  0.00922425]\n",
      " [-0.01089791  0.08301212  0.02776774  0.03215052  0.0069027   0.00484746]\n",
      " [-0.01089791  0.08301212  0.02776774  0.02873267  0.00730789  0.00942625]\n",
      " [-0.05221795 -0.08008863 -0.01916574  0.04222177  0.01452079 -0.04565394]\n",
      " [-0.05221795 -0.08008863 -0.01916574  0.04263191  0.01456846 -0.04612528]\n",
      " [-0.03455546  0.01882289 -0.00470284  0.06336682  0.01889442  0.01147998]\n",
      " [-0.03455546  0.01882289 -0.00470284  0.05393357  0.0186233   0.00548715]\n",
      " [-0.01398244  0.0594503  -0.01198741  0.02818582  0.02370898 -0.00925926]\n",
      " [-0.01398244  0.0594503  -0.01198741  0.02394769  0.02408437 -0.00505081]\n",
      " [-0.0420912  -0.0557385  -0.01559041 -0.01893485  0.02792172 -0.04780867]\n",
      " [-0.0420912  -0.0557385  -0.01559041 -0.018707    0.02795747 -0.04649563]\n",
      " [-0.01558639 -0.0050455  -0.02060369 -0.01866143  0.02858909  0.01518341]\n",
      " [-0.01558639 -0.0050455  -0.02060369 -0.02809468  0.02831797  0.00919058]\n",
      " [ 0.02675865  0.03522424  0.00176048 -0.04112806  0.02267814  0.06942192]\n",
      " [ 0.02675865  0.03522424  0.00176048 -0.0435889   0.02306843  0.07150931]\n",
      " [-0.03087933 -0.06549027 -0.02295958  0.00726861  0.02108123 -0.03969477]\n",
      " [-0.03087933 -0.06549027 -0.02295958  0.00749647  0.02111698 -0.03838174]\n",
      " [ 0.0185807  -0.00548347 -0.00900017  0.00416977  0.01560228  0.02211894]\n",
      " [ 0.0185807  -0.00548347 -0.00900017  0.00362291  0.01516134  0.02094057]\n",
      " [ 0.04331388  0.06061086 -0.01054214  0.00553691  0.00924146  0.01077296]\n",
      " [ 0.04331388  0.06061086 -0.01054214  0.00307606  0.00963175  0.01286035]\n",
      " [ 0.00965296 -0.03656347 -0.00921932  0.00371406  0.00339009 -0.00966327]\n",
      " [ 0.00965296 -0.03656347 -0.00921932  0.00394191  0.00342585 -0.00835024]\n",
      " [ 0.04359227  0.00652376  0.00261734  0.02093999 -0.00328058  0.04154514]\n",
      " [ 0.04359227  0.00652376  0.00261734  0.01264602 -0.00362915  0.03457595]\n",
      " [ 0.04953355  0.05045769  0.01044738  0.00863575 -0.01088377  0.00063901]\n",
      " [ 0.04953355  0.05045769  0.01044738  0.0061749  -0.01049348  0.0027264 ]\n",
      " [-0.0216384  -0.04224225  0.00034543 -0.02859596 -0.01305271 -0.06625851]\n",
      " [-0.0216384  -0.04224225  0.00034543 -0.0283681  -0.01301696 -0.06494547]\n",
      " [ 0.02210181 -0.00143972  0.00582913 -0.00726861 -0.01696752  0.03174787]\n",
      " [ 0.02210181 -0.00143972  0.00582913 -0.01670186 -0.01723864  0.02575504]\n",
      " [ 0.03283913  0.08124574  0.00973238  0.00818004 -0.01912156  0.03316191]\n",
      " [ 0.03283913  0.08124574  0.00973238  0.00394191 -0.01874617  0.03737036]\n",
      " [-0.00776593 -0.08576745 -0.00087593  0.00252921 -0.01703306 -0.0502664 ]\n",
      " [-0.00776593 -0.08576745 -0.00087593  0.00275706 -0.01699731 -0.04895336]\n",
      " [ 0.01480017 -0.0063375  -0.01778694  0.01118774 -0.02008388  0.03107452]\n",
      " [ 0.01480017 -0.0063375  -0.01778694  0.00129878 -0.01999152  0.02467768]\n",
      " [ 0.05000493  0.03060385  0.01597911 -0.01756772 -0.0234356   0.05642622]\n",
      " [ 0.05000493  0.03060385  0.01597911 -0.02180584 -0.02306021  0.06063467]\n",
      " [ 0.00234816 -0.05702314 -0.00219906 -0.0336088  -0.02262225 -0.02892114]\n",
      " [ 0.00234816 -0.05702314 -0.00219906 -0.0336088  -0.02262225 -0.02892114]]\n"
     ]
    }
   ],
   "source": [
    "print(X_train_scaled.mean(axis=0))"
   ]
  },
  {
   "cell_type": "code",
   "execution_count": 49,
   "id": "d823b1bc",
   "metadata": {
    "scrolled": true
   },
   "outputs": [
    {
     "name": "stdout",
     "output_type": "stream",
     "text": [
      "[[0.99003579 0.99421657 0.95896616 1.03908338 1.01138777 0.99208408]\n",
      " [0.99003579 0.99421657 0.95896616 1.0391009  1.01138775 0.99191672]\n",
      " [1.00905402 1.05106109 1.04489979 1.00446655 1.00507414 1.03405625]\n",
      " [1.00905402 1.05106109 1.04489979 1.00836567 1.00530754 1.03196417]\n",
      " [1.00036155 1.0202067  0.98993738 0.97283473 1.00366037 0.99648565]\n",
      " [1.00036155 1.0202067  0.98993738 0.97465151 1.00290797 0.9978889 ]\n",
      " [1.00558864 0.97633112 0.99053622 1.03065736 1.00381104 1.01257265]\n",
      " [1.00558864 0.97633112 0.99053622 1.03062632 1.00389596 1.01355898]\n",
      " [0.98705479 1.00009992 1.00949451 0.97482249 1.0007473  1.01836133]\n",
      " [0.98705479 1.00009992 1.00949451 0.97911111 1.00074772 1.01702981]\n",
      " [0.98684    0.99312401 0.96419992 0.96888081 0.9990446  0.99370595]\n",
      " [0.98684    0.99312401 0.96419992 0.97110436 0.99828134 0.99509846]\n",
      " [0.9961535  1.01162018 1.00205236 1.00060831 0.99878288 0.99707244]\n",
      " [0.9961535  1.01162018 1.00205236 1.00055376 0.99886739 0.99806739]\n",
      " [0.99308007 1.02416987 1.03243432 0.98467322 0.99634257 1.02150073]\n",
      " [0.99308007 1.02416987 1.03243432 0.98936978 0.99658713 1.01934448]\n",
      " [0.98078034 0.97516101 0.96907322 0.98740135 0.99708754 0.99829172]\n",
      " [0.98078034 0.97516101 0.96907322 0.98922808 0.99631686 0.99966777]\n",
      " [0.97629903 0.98723255 0.96443163 1.02156441 0.99661733 0.98441134]\n",
      " [0.97629903 0.98723255 0.96443163 1.02155142 0.99670192 0.98531431]\n",
      " [1.01636513 1.01827788 1.04453334 0.9871182  0.995226   1.01621578]\n",
      " [1.01636513 1.01827788 1.04453334 0.99102268 0.99547347 1.01407019]\n",
      " [0.99390493 0.98918329 0.99239385 0.97261217 0.99499775 0.96104644]\n",
      " [0.99390493 0.98918329 0.99239385 0.97203176 0.99422458 0.96241162]\n",
      " [0.99157506 1.00819751 1.00264928 1.02068321 0.99723841 0.97996242]\n",
      " [0.99157506 1.00819751 1.00264928 1.02066436 0.99732319 0.98085862]\n",
      " [0.99854716 1.01304047 1.03984593 0.98126032 0.99211768 1.01445477]\n",
      " [0.99854716 1.01304047 1.03984593 0.98033055 0.9923643  1.01424042]\n",
      " [0.99042531 0.97812567 0.98078726 0.99164418 0.99018523 0.98475341]\n",
      " [0.99042531 0.97812567 0.98078726 0.99119078 0.9894136  0.9862099 ]\n",
      " [1.01054483 1.01461838 1.00035541 1.04581843 0.99159344 1.03350688]\n",
      " [1.01054483 1.01461838 1.00035541 1.04580081 0.99167935 1.03431857]\n",
      " [1.0262329  1.02141016 1.02670898 0.9921252  0.99325411 1.00633521]\n",
      " [1.0262329  1.02141016 1.02670898 0.99642306 0.99349029 1.00370456]\n",
      " [1.00055798 0.96315362 0.9995652  0.96005026 0.99702973 0.97335344]\n",
      " [1.00055798 0.96315362 0.9995652  0.95958988 0.99627128 0.97484867]\n",
      " [0.99483462 0.9686152  0.9900141  1.00386031 0.99908389 0.97632638]\n",
      " [0.99483462 0.9686152  0.9900141  1.00384928 0.99916973 0.9772616 ]\n",
      " [1.01636743 1.00104035 1.01543427 0.98893651 0.99951048 1.01807872]\n",
      " [1.01636743 1.00104035 1.01543427 0.99294208 0.99974454 1.01603476]\n",
      " [1.00748606 0.95980546 0.98058766 0.96121811 1.00407978 0.98645722]\n",
      " [1.00748606 0.95980546 0.98058766 0.96300646 1.00333049 0.98766902]\n",
      " [0.9963729  0.99344396 1.0068312  1.03625051 1.00614627 0.98357838]\n",
      " [0.9963729  0.99344396 1.0068312  1.03623299 1.00623165 0.98448539]\n",
      " [1.02936598 1.01747854 1.02607488 0.98282136 1.00667765 1.02412761]\n",
      " [1.02936598 1.01747854 1.02607488 0.98739243 1.0066774  1.02227123]\n",
      " [0.99302591 0.99122412 0.97753576 0.99218834 1.0085834  0.9865042 ]\n",
      " [0.99302591 0.99122412 0.97753576 0.99381117 1.00783907 0.98761682]\n",
      " [0.99617373 0.9909612  0.98019119 1.06421685 1.00958484 0.98657954]\n",
      " [0.99617373 0.9909612  0.98019119 1.06421685 1.00958484 0.98657954]]\n"
     ]
    }
   ],
   "source": [
    "print(X_train_scaled.std(axis = 0))"
   ]
  },
  {
   "cell_type": "code",
   "execution_count": 50,
   "id": "22036613",
   "metadata": {},
   "outputs": [],
   "source": [
    "X_test_scaled = scaler.transform(X_test.reshape(-1, X_test.shape[-1])).reshape(X_test.shape)"
   ]
  },
  {
   "cell_type": "code",
   "execution_count": 51,
   "id": "33694c87",
   "metadata": {},
   "outputs": [
    {
     "data": {
      "text/plain": [
       "(321, 50, 6)"
      ]
     },
     "execution_count": 51,
     "metadata": {},
     "output_type": "execute_result"
    }
   ],
   "source": [
    "X_test_scaled.shape"
   ]
  },
  {
   "cell_type": "code",
   "execution_count": 52,
   "id": "ca348d68",
   "metadata": {
    "scrolled": true
   },
   "outputs": [
    {
     "name": "stdout",
     "output_type": "stream",
     "text": [
      "[[-0.00095857 -0.08820927 -0.11907691  0.00417573  0.02676436 -0.04188317]\n",
      " [-0.00095857 -0.08820927 -0.11907691  0.0051289   0.02687514 -0.04297857]\n",
      " [ 0.02620786  0.03652165 -0.07061611  0.06390729  0.01432908  0.01750333]\n",
      " [ 0.02620786  0.03652165 -0.07061611  0.06390729  0.01432908  0.01750333]\n",
      " [ 0.09437022  0.01072056 -0.05624663 -0.03564531  0.00456641  0.09488574]\n",
      " [ 0.09437022  0.01072056 -0.05624663 -0.03564531  0.00456641  0.09488574]\n",
      " [ 0.04636763 -0.08999035 -0.06091819  0.01656685 -0.00951675  0.00161999]\n",
      " [ 0.04636763 -0.08999035 -0.06091819  0.01614323 -0.00954445  0.00576687]\n",
      " [ 0.06762287  0.00230678 -0.05388276  0.06020054 -0.0229006   0.02360629]\n",
      " [ 0.06762287  0.00230678 -0.05388276  0.06390729 -0.02392534  0.02227616]\n",
      " [ 0.09732581  0.01911739 -0.06091819 -0.06932374 -0.0384724   0.04598382]\n",
      " [ 0.09732581  0.01911739 -0.06091819 -0.07123007 -0.03854164  0.04512314]\n",
      " [ 0.07234299 -0.00361348 -0.00351121 -0.11592283 -0.05072766  0.03565573]\n",
      " [ 0.07234299 -0.00361348 -0.00351121 -0.11634646 -0.05075536  0.03980261]\n",
      " [ 0.113236   -0.00627665 -0.04283585 -0.12365404 -0.06332911  0.03307371]\n",
      " [ 0.113236   -0.00627665 -0.04283585 -0.12365404 -0.06332911  0.03307371]\n",
      " [ 0.10594996  0.07356943  0.02934346 -0.05799169 -0.07749536  0.0806455 ]\n",
      " [ 0.10594996  0.07356943  0.02934346 -0.05799169 -0.07749536  0.0806455 ]\n",
      " [ 0.04952172 -0.06174654 -0.01447534  0.02588667 -0.0817397   0.03948964]\n",
      " [ 0.04952172 -0.06174654 -0.01447534  0.02588667 -0.0817397   0.03948964]\n",
      " [ 0.07006381  0.04873517 -0.00536801  0.07121487 -0.08593557  0.02391926]\n",
      " [ 0.07006381  0.04873517 -0.00536801  0.07121487 -0.08593557  0.02391926]\n",
      " [ 0.01025356  0.12775009 -0.00504278  0.10605828 -0.07494738 -0.10510358]\n",
      " [ 0.01025356  0.12775009 -0.00504278  0.10192791 -0.074982   -0.10017426]\n",
      " [ 0.02489916 -0.03777737  0.00540023 -0.03384488 -0.06580093  0.02305859]\n",
      " [ 0.02489916 -0.03777737  0.00540023 -0.03384488 -0.06580093  0.02305859]\n",
      " [-0.00811962  0.04747993 -0.03388966  0.01963816 -0.05567823  0.0065493 ]\n",
      " [-0.00811962  0.04747993 -0.03388966 -0.00101371 -0.05528357 -0.00463946]\n",
      " [-0.02836761  0.0613559   0.02146685 -0.00323776 -0.04367915  0.03025696]\n",
      " [-0.02836761  0.0613559   0.02146685 -0.00736813 -0.04371377  0.03518627]\n",
      " [-0.07105456 -0.10186469 -0.01576371 -0.02960861 -0.02463849 -0.04767316]\n",
      " [-0.07105456 -0.10186469 -0.01576371 -0.02960861 -0.02463849 -0.04767316]\n",
      " [-0.06681969  0.02091539 -0.05006125 -0.02230103 -0.0117047  -0.03797101]\n",
      " [-0.06681969  0.02091539 -0.05006125 -0.0249487  -0.01152468 -0.03570196]\n",
      " [-0.04421163  0.08685164 -0.01768556 -0.01171032  0.00314702  0.05224326]\n",
      " [-0.04421163  0.08685164 -0.01768556 -0.0158407   0.0031124   0.05717257]\n",
      " [-0.00059096 -0.08866728 -0.02563904  0.04452631  0.01361592  0.08150617]\n",
      " [-0.00059096 -0.08866728 -0.02563904  0.04452631  0.01361592  0.08150617]\n",
      " [-0.01536155  0.04020272 -0.05846562  0.04823305  0.02008974 -0.01410687]\n",
      " [-0.01536155  0.04020272 -0.05846562  0.04823305  0.02008974 -0.01410687]\n",
      " [-0.00659771  0.01161957 -0.01737215 -0.00175506  0.02231923 -0.02279185]\n",
      " [-0.00659771  0.01161957 -0.01737215 -0.00175506  0.02231923 -0.02279185]\n",
      " [-0.03434496  0.01112767 -0.02297211 -0.02854954  0.02285929  0.04402773]\n",
      " [-0.03434496  0.01112767 -0.02297211 -0.02854954  0.02285929  0.04402773]\n",
      " [ 0.00206319  0.05519826 -0.00157754  0.00343438  0.02733904 -0.01230728]\n",
      " [ 0.00206319  0.05519826 -0.00157754  0.00449345  0.02649433 -0.01136836]\n",
      " [-0.04669668  0.13294084 -0.0277442   0.05850603  0.03230346 -0.0753712 ]\n",
      " [-0.04669668  0.13294084 -0.0277442   0.05850603  0.03230346 -0.0753712 ]\n",
      " [-0.05750443 -0.06111894 -0.02112123  0.05321068  0.03573078 -0.00534365]\n",
      " [-0.05750443 -0.06111894 -0.02112123  0.05374022  0.03581386 -0.00229217]]\n"
     ]
    }
   ],
   "source": [
    "print(X_test_scaled.mean(axis=0))"
   ]
  },
  {
   "cell_type": "code",
   "execution_count": 53,
   "id": "789e3bf7",
   "metadata": {
    "scrolled": true
   },
   "outputs": [
    {
     "name": "stdout",
     "output_type": "stream",
     "text": [
      "[[-1.93923015e-03  9.76241430e+00 -3.93052778e-01 -4.02271888e-03\n",
      "   9.66537224e-03 -2.44346099e-03]\n",
      " [-1.93923015e-03  9.76241430e+00 -3.93052778e-01 -4.00559182e-03\n",
      "   9.69582038e-03 -2.47010309e-03]\n",
      " [ 2.56201955e-02  9.81725718e+00 -3.31928842e-01 -2.94942300e-03\n",
      "   6.24757184e-03 -9.99078686e-04]\n",
      " [ 2.56201955e-02  9.81725718e+00 -3.31928842e-01 -2.94942300e-03\n",
      "   6.24757184e-03 -9.99078686e-04]\n",
      " [ 9.47686216e-02  9.80591271e+00 -3.13804513e-01 -4.73824954e-03\n",
      "   3.56433230e-03  8.82995273e-04]\n",
      " [ 9.47686216e-02  9.80591271e+00 -3.13804513e-01 -4.73824954e-03\n",
      "   3.56433230e-03  8.82995273e-04]\n",
      " [ 4.60716019e-02  9.76163117e+00 -3.19696785e-01 -3.80006708e-03\n",
      "  -3.06384010e-04 -1.38538911e-03]\n",
      " [ 4.60716019e-02  9.76163117e+00 -3.19696785e-01 -3.80767911e-03\n",
      "  -3.13996038e-04 -1.28452974e-03]\n",
      " [ 6.76343321e-02  9.80221326e+00 -3.10822945e-01 -3.01602823e-03\n",
      "  -3.98489690e-03 -8.50644166e-04]\n",
      " [ 6.76343321e-02  9.80221326e+00 -3.10822945e-01 -2.94942299e-03\n",
      "  -4.26654194e-03 -8.82995283e-04]\n",
      " [ 9.77669654e-02  9.80960471e+00 -3.19696785e-01 -5.34340579e-03\n",
      "  -8.26475978e-03 -3.06384060e-04]\n",
      " [ 9.77669654e-02  9.80960471e+00 -3.19696785e-01 -5.37765991e-03\n",
      "  -8.28378985e-03 -3.27317137e-04]\n",
      " [ 7.24227361e-02  9.79961018e+00 -2.47288964e-01 -6.18072884e-03\n",
      "  -1.16330820e-02 -5.57581042e-04]\n",
      " [ 7.24227361e-02  9.79961018e+00 -2.47288964e-01 -6.18834087e-03\n",
      "  -1.16406940e-02 -4.56721671e-04]\n",
      " [ 1.13907315e-01  9.79843922e+00 -2.96889402e-01 -6.31964834e-03\n",
      "  -1.50965548e-02 -6.20380257e-04]\n",
      " [ 1.13907315e-01  9.79843922e+00 -2.96889402e-01 -6.31964834e-03\n",
      "  -1.50965548e-02 -6.20380257e-04]\n",
      " [ 1.06515871e-01  9.83354671e+00 -2.05849139e-01 -5.13978402e-03\n",
      "  -1.89901061e-02  5.36647979e-04]\n",
      " [ 1.06515871e-01  9.83354671e+00 -2.05849139e-01 -5.13978402e-03\n",
      "  -1.89901061e-02  5.36647979e-04]\n",
      " [ 4.92713256e-02  9.77404968e+00 -2.61118090e-01 -3.63260242e-03\n",
      "  -2.01566500e-02 -4.64333656e-04]\n",
      " [ 4.92713256e-02  9.77404968e+00 -2.61118090e-01 -3.63260242e-03\n",
      "  -2.01566500e-02 -4.64333656e-04]\n",
      " [ 7.01105792e-02  9.82262734e+00 -2.49630953e-01 -2.81811550e-03\n",
      "  -2.13098724e-02 -8.43032098e-04]\n",
      " [ 7.01105792e-02  9.82262734e+00 -2.49630953e-01 -2.81811550e-03\n",
      "  -2.13098724e-02 -8.43032098e-04]\n",
      " [ 9.43509330e-03  9.85736938e+00 -2.49220736e-01 -2.19202619e-03\n",
      "  -1.82898005e-02 -3.98109066e-03]\n",
      " [ 9.43509330e-03  9.85736938e+00 -2.49220736e-01 -2.26624347e-03\n",
      "  -1.82993156e-02 -3.86120122e-03]\n",
      " [ 2.42925678e-02  9.78458867e+00 -2.36048896e-01 -4.70589835e-03\n",
      "  -1.57759275e-02 -8.63965220e-04]\n",
      " [ 2.42925678e-02  9.78458867e+00 -2.36048896e-01 -4.70589835e-03\n",
      "  -1.57759275e-02 -8.63965220e-04]\n",
      " [-9.20387808e-03  9.82207543e+00 -2.85605511e-01 -3.74487988e-03\n",
      "  -1.29937316e-02 -1.26549971e-03]\n",
      " [-9.20387808e-03  9.82207543e+00 -2.85605511e-01 -4.11596624e-03\n",
      "  -1.28852602e-02 -1.53762971e-03]\n",
      " [-2.97447867e-02  9.82817654e+00 -2.15783956e-01 -4.15592942e-03\n",
      "  -9.69582063e-03 -6.88888465e-04]\n",
      " [-2.97447867e-02  9.82817654e+00 -2.15783956e-01 -4.23014669e-03\n",
      "  -9.70533566e-03 -5.68999026e-04]\n",
      " [-7.30492575e-02  9.75641015e+00 -2.62743127e-01 -4.62977813e-03\n",
      "  -4.46255102e-03 -2.58428353e-03]\n",
      " [-7.30492575e-02  9.75641015e+00 -2.62743127e-01 -4.62977813e-03\n",
      "  -4.46255102e-03 -2.58428353e-03]\n",
      " [-6.87531205e-02  9.81039527e+00 -3.06002843e-01 -4.49847070e-03\n",
      "  -9.07735101e-04 -2.34831060e-03]\n",
      " [-6.87531205e-02  9.81039527e+00 -3.06002843e-01 -4.54604588e-03\n",
      "  -8.58256918e-04 -2.29312340e-03]\n",
      " [-4.58180085e-02  9.83938676e+00 -2.65167163e-01 -4.30816998e-03\n",
      "   3.17421591e-03 -1.54143542e-04]\n",
      " [-4.58180085e-02  9.83938676e+00 -2.65167163e-01 -4.38238725e-03\n",
      "   3.16470087e-03 -3.42541027e-05]\n",
      " [-1.56630115e-03  9.76221291e+00 -2.75198944e-01 -3.29767323e-03\n",
      "   6.05156252e-03  5.57581072e-04]\n",
      " [-1.56630115e-03  9.76221291e+00 -2.75198944e-01 -3.29767323e-03\n",
      "   6.05156252e-03  5.57581072e-04]\n",
      " [-1.65505730e-02  9.81887571e+00 -3.16603338e-01 -3.23106804e-03\n",
      "   7.83087336e-03 -1.76789342e-03]\n",
      " [-1.65505730e-02  9.81887571e+00 -3.16603338e-01 -3.23106804e-03\n",
      "   7.83087336e-03 -1.76789342e-03]\n",
      " [-7.65995149e-03  9.80630800e+00 -2.64771858e-01 -4.12928731e-03\n",
      "   8.44364191e-03 -1.97912721e-03]\n",
      " [-7.65995149e-03  9.80630800e+00 -2.64771858e-01 -4.12928731e-03\n",
      "   8.44364191e-03 -1.97912721e-03]\n",
      " [-3.58086069e-02  9.80609172e+00 -2.71835126e-01 -4.61074806e-03\n",
      "   8.59207683e-03 -3.53959339e-04]\n",
      " [-3.58086069e-02  9.80609172e+00 -2.71835126e-01 -4.61074806e-03\n",
      "   8.59207683e-03 -3.53959339e-04]\n",
      " [ 1.12624531e-03  9.82546910e+00 -2.44850009e-01 -4.03603996e-03\n",
      "   9.82332227e-03 -1.72412431e-03]\n",
      " [ 1.12624531e-03  9.82546910e+00 -2.44850009e-01 -4.01700989e-03\n",
      "   9.59115542e-03 -1.70128823e-03]\n",
      " [-4.83390045e-02  9.85965170e+00 -2.77854195e-01 -3.04647636e-03\n",
      "   1.11877789e-02 -3.25794792e-03]\n",
      " [-4.83390045e-02  9.85965170e+00 -2.77854195e-01 -3.04647636e-03\n",
      "   1.11877789e-02 -3.25794792e-03]\n",
      " [-5.93031099e-02  9.77432563e+00 -2.69500595e-01 -3.14162666e-03\n",
      "   1.21297666e-02 -1.55475673e-03]\n",
      " [-5.93031099e-02  9.77432563e+00 -2.69500595e-01 -3.13211162e-03\n",
      "   1.21526027e-02 -1.48053947e-03]]\n"
     ]
    }
   ],
   "source": [
    "print(X_test.mean(axis=0))"
   ]
  },
  {
   "cell_type": "code",
   "execution_count": 54,
   "id": "dc639ec9",
   "metadata": {
    "scrolled": true
   },
   "outputs": [
    {
     "name": "stdout",
     "output_type": "stream",
     "text": [
      "[[1.00452509 0.99031489 1.02207891 0.998118   0.97627642 0.99053266]\n",
      " [1.00452509 0.99031489 1.02207891 0.99802697 0.97647593 0.99286243]\n",
      " [1.00287348 0.9478526  0.97597252 0.91315594 0.98549693 0.95786853]\n",
      " [1.00287348 0.9478526  0.97597252 0.91315594 0.98549693 0.95786853]\n",
      " [0.98949083 0.91000021 0.97231808 0.97184616 0.99042051 0.98527446]\n",
      " [0.98949083 0.91000021 0.97231808 0.97184616 0.99042051 0.98527446]\n",
      " [0.96538464 1.03216926 0.96226772 1.0180377  0.99500426 0.94102103]\n",
      " [0.96538464 1.03216926 0.96226772 1.01808931 0.99500448 0.94054336]\n",
      " [1.05066858 1.07096928 1.06269582 0.98841193 0.99576652 0.99660133]\n",
      " [1.05066858 1.07096928 1.06269582 0.98745627 0.99629758 0.99469148]\n",
      " [1.02030043 0.98024673 1.02994029 0.98104274 1.00058071 0.99640975]\n",
      " [1.02030043 0.98024673 1.02994029 0.98005793 1.00057848 0.99627917]\n",
      " [0.98503987 0.94940493 0.93501846 1.07991641 1.00522961 0.97704484]\n",
      " [0.98503987 0.94940493 0.93501846 1.07991309 1.00522869 0.97644026]\n",
      " [1.03232054 1.02168972 1.01092869 0.96239848 1.00383435 0.98972776]\n",
      " [1.03232054 1.02168972 1.01092869 0.96239848 1.00383435 0.98972776]\n",
      " [1.03365497 1.02248453 1.02078707 0.93935001 1.00225701 0.9841319 ]\n",
      " [1.03365497 1.02248453 1.02078707 0.93935001 1.00225701 0.9841319 ]\n",
      " [1.03275773 1.00869735 1.02272142 1.04104999 1.00752286 1.00627367]\n",
      " [1.03275773 1.00869735 1.02272142 1.04104999 1.00752286 1.00627367]\n",
      " [0.98347905 1.03459201 0.98208676 0.9700004  1.00419634 1.00245346]\n",
      " [0.98347905 1.03459201 0.98208676 0.9700004  1.00419634 1.00245346]\n",
      " [1.00877279 0.98637238 0.96687275 0.97064903 1.0073224  1.06069014]\n",
      " [1.00877279 0.98637238 0.96687275 0.97623515 1.00732191 1.06091411]\n",
      " [1.00092297 0.95897292 0.93646036 1.04280234 1.00764793 1.0185194 ]\n",
      " [1.00092297 0.95897292 0.93646036 1.04280234 1.00764793 1.0185194 ]\n",
      " [1.02736605 1.04319182 0.98944299 0.98611859 1.01409275 1.00663765]\n",
      " [1.02736605 1.04319182 0.98944299 0.99801683 1.0141159  1.00200104]\n",
      " [1.01505826 1.00793721 0.99016301 0.93251329 1.02059105 1.01929075]\n",
      " [1.01505826 1.00793721 0.99016301 0.93784524 1.02059162 1.01886914]\n",
      " [0.95429174 0.94117723 0.95133534 0.98203518 1.02282586 0.8879602 ]\n",
      " [0.95429174 0.94117723 0.95133534 0.98203518 1.02282586 0.8879602 ]\n",
      " [0.95747709 1.02546923 1.0301692  0.95797427 1.01323397 1.02341447]\n",
      " [0.95747709 1.02546923 1.0301692  0.9577837  1.01324244 1.02498911]\n",
      " [0.98998115 1.04179388 0.9561941  1.00579857 1.00589085 1.04378881]\n",
      " [0.98998115 1.04179388 0.9561941  1.01070937 1.00589304 1.04327322]\n",
      " [0.99397303 1.04848377 0.98814765 1.07734791 1.00576886 1.02100693]\n",
      " [0.99397303 1.04848377 0.98814765 1.07734791 1.00576886 1.02100693]\n",
      " [0.98592231 1.07063719 1.05627514 0.97147263 0.9983779  0.99791161]\n",
      " [0.98592231 1.07063719 1.05627514 0.97147263 0.9983779  0.99791161]\n",
      " [0.97590583 1.04995945 1.00099625 1.01491736 0.98892188 1.0146519 ]\n",
      " [0.97590583 1.04995945 1.00099625 1.01491736 0.98892188 1.0146519 ]\n",
      " [0.99006177 0.99002461 0.94806458 1.00526106 0.98896107 1.00920821]\n",
      " [0.99006177 0.99002461 0.94806458 1.00526106 0.98896107 1.00920821]\n",
      " [0.95451047 1.03164171 1.03337088 0.98754497 0.98118816 0.98349531]\n",
      " [0.95451047 1.03164171 1.03337088 0.98669573 0.98178131 0.98309689]\n",
      " [1.00700638 0.9769607  1.00610832 0.94133374 0.97771629 1.0093378 ]\n",
      " [1.00700638 0.9769607  1.00610832 0.94133374 0.97771629 1.0093378 ]\n",
      " [0.98958907 0.99286947 1.01080053 0.93231174 0.98013478 1.0052841 ]\n",
      " [0.98958907 0.99286947 1.01080053 0.93223759 0.98033399 1.00720658]]\n"
     ]
    }
   ],
   "source": [
    "print(X_test_scaled.std(axis=0))"
   ]
  },
  {
   "cell_type": "code",
   "execution_count": 55,
   "id": "5789cd3a",
   "metadata": {
    "scrolled": true
   },
   "outputs": [
    {
     "data": {
      "text/plain": [
       "array([[[-1.73691452e-01, -1.72058098e-01,  2.34306713e-01,\n",
       "         -1.39951591e+00,  2.20522082e-01, -6.69991927e-02],\n",
       "        [-1.73691452e-01, -1.72058098e-01,  2.34306713e-01,\n",
       "         -1.39951591e+00,  2.20522082e-01, -6.69991927e-02],\n",
       "        [ 6.49969579e-01,  1.17835238e+00,  7.62003869e-01,\n",
       "          4.36276370e-01,  1.16010689e-02, -1.67463308e-01],\n",
       "        ...,\n",
       "        [-3.62496261e-01,  9.76880935e-01, -1.92786303e-01,\n",
       "         -5.15615899e-01,  7.15594121e-03, -5.19087715e-01],\n",
       "        [ 6.99530853e-01, -2.86408457e-01, -4.20569257e-01,\n",
       "         -1.26353131e+00,  1.82687622e-02, -7.70248016e-01],\n",
       "        [ 6.99530853e-01, -2.86408457e-01, -4.20569257e-01,\n",
       "         -1.26353131e+00,  1.82687622e-02, -7.70248016e-01]],\n",
       "\n",
       "       [[ 1.34146719e+00,  3.18010222e-01,  1.32197029e+00,\n",
       "         -1.60349286e+00, -1.25303785e+00, -8.95828167e-01],\n",
       "        [ 1.34146719e+00,  3.18010222e-01,  1.32197029e+00,\n",
       "         -1.60349286e+00, -1.25303785e+00, -8.95828167e-01],\n",
       "        [ 2.45541558e+00,  3.83352664e-01,  1.50229836e+00,\n",
       "          1.64307149e-01, -1.39083686e+00,  1.36461439e+00],\n",
       "        ...,\n",
       "        [ 1.98340353e+00,  3.56125562e-01, -2.80103106e-01,\n",
       "         -1.16154288e+00, -2.88445077e-01,  1.69112283e+00],\n",
       "        [ 1.31314650e+00, -7.43805555e-01, -4.68024037e-01,\n",
       "         -7.19592800e-01, -5.24036890e-01, -4.93971669e-01],\n",
       "        [ 1.31314650e+00, -7.43805555e-01, -4.68024037e-01,\n",
       "         -7.19592800e-01, -5.24036890e-01, -4.93971669e-01]],\n",
       "\n",
       "       [[-1.45284407e+00, -1.38633957e+00, -8.00207451e-01,\n",
       "          5.04268683e-01,  1.97634770e+00, -5.94435775e-01],\n",
       "        [-1.45284407e+00, -1.38633957e+00, -8.00207451e-01,\n",
       "          5.04268683e-01,  1.97634770e+00, -5.94435775e-01],\n",
       "        [-7.33025704e-01,  1.58674373e+00,  7.86680330e-01,\n",
       "          6.23186921e-02,  1.93411893e+00, -9.96292273e-01],\n",
       "        ...,\n",
       "        [-1.41272309e+00, -9.45279171e-01, -4.18671068e-01,\n",
       "         -7.36659214e-02,  1.89189037e+00, -9.71176227e-01],\n",
       "        [-1.28291978e+00, -2.04729319e-01, -7.13020681e-02,\n",
       "         -5.67362117e-03,  1.95856718e+00, -4.18623609e-01],\n",
       "        [-1.28291978e+00, -2.04729319e-01, -7.13020681e-02,\n",
       "         -5.67362117e-03,  1.95856718e+00, -4.18623609e-01]],\n",
       "\n",
       "       ...,\n",
       "\n",
       "       [[ 4.37564132e-01,  1.00202080e-01, -4.88904120e-01,\n",
       "         -5.49612075e-01, -1.39533294e-01,  3.85089310e-01],\n",
       "        [ 4.37564132e-01,  1.00202080e-01, -4.88904120e-01,\n",
       "         -5.49612075e-01, -1.39533294e-01,  3.85089310e-01],\n",
       "        [ 3.54962047e-01,  3.56125562e-01, -1.45331522e-01,\n",
       "          1.32017631e+00, -9.95271341e-02,  8.34889106e-03],\n",
       "        ...,\n",
       "        [-1.24130177e-01,  9.71434647e-01,  1.01433331e-01,\n",
       "          2.83225290e-02, -9.90775276e-01,  1.03810603e+00],\n",
       "        [-3.62496261e-01, -1.37544917e+00, -9.42571839e-01,\n",
       "          1.64307149e-01, -6.72948646e-01, -6.69991927e-02],\n",
       "        [-3.62496261e-01, -1.37544917e+00, -9.42571839e-01,\n",
       "          1.64307149e-01, -6.72948646e-01, -6.69991927e-02]],\n",
       "\n",
       "       [[-1.80771626e-01, -4.68195006e-02,  8.15153217e-01,\n",
       "         -2.69136966e+00,  5.60523528e-02,  4.35321363e-01],\n",
       "        [-1.80771626e-01, -4.68195006e-02,  8.15153217e-01,\n",
       "         -2.69136966e+00,  5.60523528e-02,  4.35321363e-01],\n",
       "        [ 1.23290441e+00, -2.67140978e+00,  8.29196820e-04,\n",
       "         -2.77642822e-01, -2.39599562e-02,  1.49019462e+00],\n",
       "        ...,\n",
       "        [ 3.59682163e-01,  1.87325336e-01,  5.53202832e-01,\n",
       "         -8.55577504e-01, -3.06276477e-02, -1.17231255e-01],\n",
       "        [-1.06815428e+00, -1.12496980e+00, -6.56075002e-02,\n",
       "         -2.65737349e+00, -6.17944341e-03, -2.00093340e+00],\n",
       "        [-1.06815428e+00, -1.12496980e+00, -6.56075002e-02,\n",
       "         -2.65737349e+00, -6.17944341e-03, -2.00093340e+00]],\n",
       "\n",
       "       [[-2.13812466e-01, -4.55208682e-01, -9.02709769e-01,\n",
       "          2.66295606e-01, -6.17944341e-03,  3.34649198e-02],\n",
       "        [-2.13812466e-01, -4.55208682e-01, -9.02709769e-01,\n",
       "          2.66295606e-01, -6.17944341e-03,  3.34649198e-02],\n",
       "        [-4.62481932e-02, -3.89866240e-01, -6.38861265e-01,\n",
       "          2.32299453e-01, -8.40200748e-03,  5.85809485e-02],\n",
       "        ...,\n",
       "        [ 1.80317586e-01,  1.04766750e+00,  3.27318078e-01,\n",
       "          8.78226386e-01, -2.84050839e-02, -1.67463308e-01],\n",
       "        [-3.24735305e-01,  3.01673527e-01, -1.81527200e-02,\n",
       "          4.36276370e-01, -3.72953393e-02, -7.45131971e-01],\n",
       "        [-3.24735305e-01,  3.01673527e-01, -1.81527200e-02,\n",
       "          4.36276370e-01, -3.72953393e-02, -7.45131971e-01]]])"
      ]
     },
     "execution_count": 55,
     "metadata": {},
     "output_type": "execute_result"
    }
   ],
   "source": [
    "X_train_scaled"
   ]
  },
  {
   "cell_type": "code",
   "execution_count": 56,
   "id": "a4f30b2e",
   "metadata": {},
   "outputs": [
    {
     "data": {
      "text/plain": [
       "6"
      ]
     },
     "execution_count": 56,
     "metadata": {},
     "output_type": "execute_result"
    }
   ],
   "source": [
    "X_train_scaled.shape[2]"
   ]
  },
  {
   "cell_type": "markdown",
   "id": "66ab9813",
   "metadata": {},
   "source": [
    "### 3. Building LSTM Model"
   ]
  },
  {
   "cell_type": "markdown",
   "id": "8df235bb",
   "metadata": {},
   "source": [
    "####  3.1 Setting up the layers"
   ]
  },
  {
   "cell_type": "code",
   "execution_count": 57,
   "id": "50c75b98",
   "metadata": {
    "scrolled": false
   },
   "outputs": [
    {
     "ename": "NotImplementedError",
     "evalue": "Cannot convert a symbolic Tensor (LSTM_1st_layer/strided_slice:0) to a numpy array. This error may indicate that you're trying to pass a Tensor to a NumPy call, which is not supported",
     "output_type": "error",
     "traceback": [
      "\u001b[1;31m---------------------------------------------------------------------------\u001b[0m",
      "\u001b[1;31mNotImplementedError\u001b[0m                       Traceback (most recent call last)",
      "\u001b[1;32m<timed exec>\u001b[0m in \u001b[0;36m<module>\u001b[1;34m\u001b[0m\n",
      "\u001b[1;32mC:\\Anaconda\\envs\\tensorflow25py38\\lib\\site-packages\\tensorflow\\python\\training\\tracking\\base.py\u001b[0m in \u001b[0;36m_method_wrapper\u001b[1;34m(self, *args, **kwargs)\u001b[0m\n\u001b[0;32m    520\u001b[0m     \u001b[0mself\u001b[0m\u001b[1;33m.\u001b[0m\u001b[0m_self_setattr_tracking\u001b[0m \u001b[1;33m=\u001b[0m \u001b[1;32mFalse\u001b[0m  \u001b[1;31m# pylint: disable=protected-access\u001b[0m\u001b[1;33m\u001b[0m\u001b[1;33m\u001b[0m\u001b[0m\n\u001b[0;32m    521\u001b[0m     \u001b[1;32mtry\u001b[0m\u001b[1;33m:\u001b[0m\u001b[1;33m\u001b[0m\u001b[1;33m\u001b[0m\u001b[0m\n\u001b[1;32m--> 522\u001b[1;33m       \u001b[0mresult\u001b[0m \u001b[1;33m=\u001b[0m \u001b[0mmethod\u001b[0m\u001b[1;33m(\u001b[0m\u001b[0mself\u001b[0m\u001b[1;33m,\u001b[0m \u001b[1;33m*\u001b[0m\u001b[0margs\u001b[0m\u001b[1;33m,\u001b[0m \u001b[1;33m**\u001b[0m\u001b[0mkwargs\u001b[0m\u001b[1;33m)\u001b[0m\u001b[1;33m\u001b[0m\u001b[1;33m\u001b[0m\u001b[0m\n\u001b[0m\u001b[0;32m    523\u001b[0m     \u001b[1;32mfinally\u001b[0m\u001b[1;33m:\u001b[0m\u001b[1;33m\u001b[0m\u001b[1;33m\u001b[0m\u001b[0m\n\u001b[0;32m    524\u001b[0m       \u001b[0mself\u001b[0m\u001b[1;33m.\u001b[0m\u001b[0m_self_setattr_tracking\u001b[0m \u001b[1;33m=\u001b[0m \u001b[0mprevious_value\u001b[0m  \u001b[1;31m# pylint: disable=protected-access\u001b[0m\u001b[1;33m\u001b[0m\u001b[1;33m\u001b[0m\u001b[0m\n",
      "\u001b[1;32mC:\\Anaconda\\envs\\tensorflow25py38\\lib\\site-packages\\tensorflow\\python\\keras\\engine\\sequential.py\u001b[0m in \u001b[0;36madd\u001b[1;34m(self, layer)\u001b[0m\n\u001b[0;32m    211\u001b[0m           \u001b[1;31m# and create the node connecting the current layer\u001b[0m\u001b[1;33m\u001b[0m\u001b[1;33m\u001b[0m\u001b[1;33m\u001b[0m\u001b[0m\n\u001b[0;32m    212\u001b[0m           \u001b[1;31m# to the input layer we just created.\u001b[0m\u001b[1;33m\u001b[0m\u001b[1;33m\u001b[0m\u001b[1;33m\u001b[0m\u001b[0m\n\u001b[1;32m--> 213\u001b[1;33m           \u001b[0mlayer\u001b[0m\u001b[1;33m(\u001b[0m\u001b[0mx\u001b[0m\u001b[1;33m)\u001b[0m\u001b[1;33m\u001b[0m\u001b[1;33m\u001b[0m\u001b[0m\n\u001b[0m\u001b[0;32m    214\u001b[0m           \u001b[0mset_inputs\u001b[0m \u001b[1;33m=\u001b[0m \u001b[1;32mTrue\u001b[0m\u001b[1;33m\u001b[0m\u001b[1;33m\u001b[0m\u001b[0m\n\u001b[0;32m    215\u001b[0m \u001b[1;33m\u001b[0m\u001b[0m\n",
      "\u001b[1;32mC:\\Anaconda\\envs\\tensorflow25py38\\lib\\site-packages\\tensorflow\\python\\keras\\layers\\recurrent.py\u001b[0m in \u001b[0;36m__call__\u001b[1;34m(self, inputs, initial_state, constants, **kwargs)\u001b[0m\n\u001b[0;32m    666\u001b[0m \u001b[1;33m\u001b[0m\u001b[0m\n\u001b[0;32m    667\u001b[0m     \u001b[1;32mif\u001b[0m \u001b[0minitial_state\u001b[0m \u001b[1;32mis\u001b[0m \u001b[1;32mNone\u001b[0m \u001b[1;32mand\u001b[0m \u001b[0mconstants\u001b[0m \u001b[1;32mis\u001b[0m \u001b[1;32mNone\u001b[0m\u001b[1;33m:\u001b[0m\u001b[1;33m\u001b[0m\u001b[1;33m\u001b[0m\u001b[0m\n\u001b[1;32m--> 668\u001b[1;33m       \u001b[1;32mreturn\u001b[0m \u001b[0msuper\u001b[0m\u001b[1;33m(\u001b[0m\u001b[0mRNN\u001b[0m\u001b[1;33m,\u001b[0m \u001b[0mself\u001b[0m\u001b[1;33m)\u001b[0m\u001b[1;33m.\u001b[0m\u001b[0m__call__\u001b[0m\u001b[1;33m(\u001b[0m\u001b[0minputs\u001b[0m\u001b[1;33m,\u001b[0m \u001b[1;33m**\u001b[0m\u001b[0mkwargs\u001b[0m\u001b[1;33m)\u001b[0m\u001b[1;33m\u001b[0m\u001b[1;33m\u001b[0m\u001b[0m\n\u001b[0m\u001b[0;32m    669\u001b[0m \u001b[1;33m\u001b[0m\u001b[0m\n\u001b[0;32m    670\u001b[0m     \u001b[1;31m# If any of `initial_state` or `constants` are specified and are Keras\u001b[0m\u001b[1;33m\u001b[0m\u001b[1;33m\u001b[0m\u001b[1;33m\u001b[0m\u001b[0m\n",
      "\u001b[1;32mC:\\Anaconda\\envs\\tensorflow25py38\\lib\\site-packages\\tensorflow\\python\\keras\\engine\\base_layer.py\u001b[0m in \u001b[0;36m__call__\u001b[1;34m(self, *args, **kwargs)\u001b[0m\n\u001b[0;32m    967\u001b[0m     \u001b[1;31m# >> model = tf.keras.Model(inputs, outputs)\u001b[0m\u001b[1;33m\u001b[0m\u001b[1;33m\u001b[0m\u001b[1;33m\u001b[0m\u001b[0m\n\u001b[0;32m    968\u001b[0m     \u001b[1;32mif\u001b[0m \u001b[0m_in_functional_construction_mode\u001b[0m\u001b[1;33m(\u001b[0m\u001b[0mself\u001b[0m\u001b[1;33m,\u001b[0m \u001b[0minputs\u001b[0m\u001b[1;33m,\u001b[0m \u001b[0margs\u001b[0m\u001b[1;33m,\u001b[0m \u001b[0mkwargs\u001b[0m\u001b[1;33m,\u001b[0m \u001b[0minput_list\u001b[0m\u001b[1;33m)\u001b[0m\u001b[1;33m:\u001b[0m\u001b[1;33m\u001b[0m\u001b[1;33m\u001b[0m\u001b[0m\n\u001b[1;32m--> 969\u001b[1;33m       return self._functional_construction_call(inputs, args, kwargs,\n\u001b[0m\u001b[0;32m    970\u001b[0m                                                 input_list)\n\u001b[0;32m    971\u001b[0m \u001b[1;33m\u001b[0m\u001b[0m\n",
      "\u001b[1;32mC:\\Anaconda\\envs\\tensorflow25py38\\lib\\site-packages\\tensorflow\\python\\keras\\engine\\base_layer.py\u001b[0m in \u001b[0;36m_functional_construction_call\u001b[1;34m(self, inputs, args, kwargs, input_list)\u001b[0m\n\u001b[0;32m   1105\u001b[0m         layer=self, inputs=inputs, build_graph=True, training=training_value):\n\u001b[0;32m   1106\u001b[0m       \u001b[1;31m# Check input assumptions set after layer building, e.g. input shape.\u001b[0m\u001b[1;33m\u001b[0m\u001b[1;33m\u001b[0m\u001b[1;33m\u001b[0m\u001b[0m\n\u001b[1;32m-> 1107\u001b[1;33m       outputs = self._keras_tensor_symbolic_call(\n\u001b[0m\u001b[0;32m   1108\u001b[0m           inputs, input_masks, args, kwargs)\n\u001b[0;32m   1109\u001b[0m \u001b[1;33m\u001b[0m\u001b[0m\n",
      "\u001b[1;32mC:\\Anaconda\\envs\\tensorflow25py38\\lib\\site-packages\\tensorflow\\python\\keras\\engine\\base_layer.py\u001b[0m in \u001b[0;36m_keras_tensor_symbolic_call\u001b[1;34m(self, inputs, input_masks, args, kwargs)\u001b[0m\n\u001b[0;32m    838\u001b[0m       \u001b[1;32mreturn\u001b[0m \u001b[0mnest\u001b[0m\u001b[1;33m.\u001b[0m\u001b[0mmap_structure\u001b[0m\u001b[1;33m(\u001b[0m\u001b[0mkeras_tensor\u001b[0m\u001b[1;33m.\u001b[0m\u001b[0mKerasTensor\u001b[0m\u001b[1;33m,\u001b[0m \u001b[0moutput_signature\u001b[0m\u001b[1;33m)\u001b[0m\u001b[1;33m\u001b[0m\u001b[1;33m\u001b[0m\u001b[0m\n\u001b[0;32m    839\u001b[0m     \u001b[1;32melse\u001b[0m\u001b[1;33m:\u001b[0m\u001b[1;33m\u001b[0m\u001b[1;33m\u001b[0m\u001b[0m\n\u001b[1;32m--> 840\u001b[1;33m       \u001b[1;32mreturn\u001b[0m \u001b[0mself\u001b[0m\u001b[1;33m.\u001b[0m\u001b[0m_infer_output_signature\u001b[0m\u001b[1;33m(\u001b[0m\u001b[0minputs\u001b[0m\u001b[1;33m,\u001b[0m \u001b[0margs\u001b[0m\u001b[1;33m,\u001b[0m \u001b[0mkwargs\u001b[0m\u001b[1;33m,\u001b[0m \u001b[0minput_masks\u001b[0m\u001b[1;33m)\u001b[0m\u001b[1;33m\u001b[0m\u001b[1;33m\u001b[0m\u001b[0m\n\u001b[0m\u001b[0;32m    841\u001b[0m \u001b[1;33m\u001b[0m\u001b[0m\n\u001b[0;32m    842\u001b[0m   \u001b[1;32mdef\u001b[0m \u001b[0m_infer_output_signature\u001b[0m\u001b[1;33m(\u001b[0m\u001b[0mself\u001b[0m\u001b[1;33m,\u001b[0m \u001b[0minputs\u001b[0m\u001b[1;33m,\u001b[0m \u001b[0margs\u001b[0m\u001b[1;33m,\u001b[0m \u001b[0mkwargs\u001b[0m\u001b[1;33m,\u001b[0m \u001b[0minput_masks\u001b[0m\u001b[1;33m)\u001b[0m\u001b[1;33m:\u001b[0m\u001b[1;33m\u001b[0m\u001b[1;33m\u001b[0m\u001b[0m\n",
      "\u001b[1;32mC:\\Anaconda\\envs\\tensorflow25py38\\lib\\site-packages\\tensorflow\\python\\keras\\engine\\base_layer.py\u001b[0m in \u001b[0;36m_infer_output_signature\u001b[1;34m(self, inputs, args, kwargs, input_masks)\u001b[0m\n\u001b[0;32m    878\u001b[0m           \u001b[0mself\u001b[0m\u001b[1;33m.\u001b[0m\u001b[0m_maybe_build\u001b[0m\u001b[1;33m(\u001b[0m\u001b[0minputs\u001b[0m\u001b[1;33m)\u001b[0m\u001b[1;33m\u001b[0m\u001b[1;33m\u001b[0m\u001b[0m\n\u001b[0;32m    879\u001b[0m           \u001b[0minputs\u001b[0m \u001b[1;33m=\u001b[0m \u001b[0mself\u001b[0m\u001b[1;33m.\u001b[0m\u001b[0m_maybe_cast_inputs\u001b[0m\u001b[1;33m(\u001b[0m\u001b[0minputs\u001b[0m\u001b[1;33m)\u001b[0m\u001b[1;33m\u001b[0m\u001b[1;33m\u001b[0m\u001b[0m\n\u001b[1;32m--> 880\u001b[1;33m           \u001b[0moutputs\u001b[0m \u001b[1;33m=\u001b[0m \u001b[0mcall_fn\u001b[0m\u001b[1;33m(\u001b[0m\u001b[0minputs\u001b[0m\u001b[1;33m,\u001b[0m \u001b[1;33m*\u001b[0m\u001b[0margs\u001b[0m\u001b[1;33m,\u001b[0m \u001b[1;33m**\u001b[0m\u001b[0mkwargs\u001b[0m\u001b[1;33m)\u001b[0m\u001b[1;33m\u001b[0m\u001b[1;33m\u001b[0m\u001b[0m\n\u001b[0m\u001b[0;32m    881\u001b[0m \u001b[1;33m\u001b[0m\u001b[0m\n\u001b[0;32m    882\u001b[0m         \u001b[0mself\u001b[0m\u001b[1;33m.\u001b[0m\u001b[0m_handle_activity_regularization\u001b[0m\u001b[1;33m(\u001b[0m\u001b[0minputs\u001b[0m\u001b[1;33m,\u001b[0m \u001b[0moutputs\u001b[0m\u001b[1;33m)\u001b[0m\u001b[1;33m\u001b[0m\u001b[1;33m\u001b[0m\u001b[0m\n",
      "\u001b[1;32mC:\\Anaconda\\envs\\tensorflow25py38\\lib\\site-packages\\tensorflow\\python\\keras\\layers\\recurrent_v2.py\u001b[0m in \u001b[0;36mcall\u001b[1;34m(self, inputs, mask, training, initial_state)\u001b[0m\n\u001b[0;32m   1151\u001b[0m \u001b[1;33m\u001b[0m\u001b[0m\n\u001b[0;32m   1152\u001b[0m     \u001b[1;31m# LSTM does not support constants. Ignore it during process.\u001b[0m\u001b[1;33m\u001b[0m\u001b[1;33m\u001b[0m\u001b[1;33m\u001b[0m\u001b[0m\n\u001b[1;32m-> 1153\u001b[1;33m     \u001b[0minputs\u001b[0m\u001b[1;33m,\u001b[0m \u001b[0minitial_state\u001b[0m\u001b[1;33m,\u001b[0m \u001b[0m_\u001b[0m \u001b[1;33m=\u001b[0m \u001b[0mself\u001b[0m\u001b[1;33m.\u001b[0m\u001b[0m_process_inputs\u001b[0m\u001b[1;33m(\u001b[0m\u001b[0minputs\u001b[0m\u001b[1;33m,\u001b[0m \u001b[0minitial_state\u001b[0m\u001b[1;33m,\u001b[0m \u001b[1;32mNone\u001b[0m\u001b[1;33m)\u001b[0m\u001b[1;33m\u001b[0m\u001b[1;33m\u001b[0m\u001b[0m\n\u001b[0m\u001b[0;32m   1154\u001b[0m \u001b[1;33m\u001b[0m\u001b[0m\n\u001b[0;32m   1155\u001b[0m     \u001b[1;32mif\u001b[0m \u001b[0misinstance\u001b[0m\u001b[1;33m(\u001b[0m\u001b[0mmask\u001b[0m\u001b[1;33m,\u001b[0m \u001b[0mlist\u001b[0m\u001b[1;33m)\u001b[0m\u001b[1;33m:\u001b[0m\u001b[1;33m\u001b[0m\u001b[1;33m\u001b[0m\u001b[0m\n",
      "\u001b[1;32mC:\\Anaconda\\envs\\tensorflow25py38\\lib\\site-packages\\tensorflow\\python\\keras\\layers\\recurrent.py\u001b[0m in \u001b[0;36m_process_inputs\u001b[1;34m(self, inputs, initial_state, constants)\u001b[0m\n\u001b[0;32m    866\u001b[0m         \u001b[0minitial_state\u001b[0m \u001b[1;33m=\u001b[0m \u001b[0mself\u001b[0m\u001b[1;33m.\u001b[0m\u001b[0mstates\u001b[0m\u001b[1;33m\u001b[0m\u001b[1;33m\u001b[0m\u001b[0m\n\u001b[0;32m    867\u001b[0m     \u001b[1;32melif\u001b[0m \u001b[0minitial_state\u001b[0m \u001b[1;32mis\u001b[0m \u001b[1;32mNone\u001b[0m\u001b[1;33m:\u001b[0m\u001b[1;33m\u001b[0m\u001b[1;33m\u001b[0m\u001b[0m\n\u001b[1;32m--> 868\u001b[1;33m       \u001b[0minitial_state\u001b[0m \u001b[1;33m=\u001b[0m \u001b[0mself\u001b[0m\u001b[1;33m.\u001b[0m\u001b[0mget_initial_state\u001b[0m\u001b[1;33m(\u001b[0m\u001b[0minputs\u001b[0m\u001b[1;33m)\u001b[0m\u001b[1;33m\u001b[0m\u001b[1;33m\u001b[0m\u001b[0m\n\u001b[0m\u001b[0;32m    869\u001b[0m \u001b[1;33m\u001b[0m\u001b[0m\n\u001b[0;32m    870\u001b[0m     \u001b[1;32mif\u001b[0m \u001b[0mlen\u001b[0m\u001b[1;33m(\u001b[0m\u001b[0minitial_state\u001b[0m\u001b[1;33m)\u001b[0m \u001b[1;33m!=\u001b[0m \u001b[0mlen\u001b[0m\u001b[1;33m(\u001b[0m\u001b[0mself\u001b[0m\u001b[1;33m.\u001b[0m\u001b[0mstates\u001b[0m\u001b[1;33m)\u001b[0m\u001b[1;33m:\u001b[0m\u001b[1;33m\u001b[0m\u001b[1;33m\u001b[0m\u001b[0m\n",
      "\u001b[1;32mC:\\Anaconda\\envs\\tensorflow25py38\\lib\\site-packages\\tensorflow\\python\\keras\\layers\\recurrent.py\u001b[0m in \u001b[0;36mget_initial_state\u001b[1;34m(self, inputs)\u001b[0m\n\u001b[0;32m    648\u001b[0m     \u001b[0mdtype\u001b[0m \u001b[1;33m=\u001b[0m \u001b[0minputs\u001b[0m\u001b[1;33m.\u001b[0m\u001b[0mdtype\u001b[0m\u001b[1;33m\u001b[0m\u001b[1;33m\u001b[0m\u001b[0m\n\u001b[0;32m    649\u001b[0m     \u001b[1;32mif\u001b[0m \u001b[0mget_initial_state_fn\u001b[0m\u001b[1;33m:\u001b[0m\u001b[1;33m\u001b[0m\u001b[1;33m\u001b[0m\u001b[0m\n\u001b[1;32m--> 650\u001b[1;33m       init_state = get_initial_state_fn(\n\u001b[0m\u001b[0;32m    651\u001b[0m           inputs=None, batch_size=batch_size, dtype=dtype)\n\u001b[0;32m    652\u001b[0m     \u001b[1;32melse\u001b[0m\u001b[1;33m:\u001b[0m\u001b[1;33m\u001b[0m\u001b[1;33m\u001b[0m\u001b[0m\n",
      "\u001b[1;32mC:\\Anaconda\\envs\\tensorflow25py38\\lib\\site-packages\\tensorflow\\python\\keras\\layers\\recurrent.py\u001b[0m in \u001b[0;36mget_initial_state\u001b[1;34m(self, inputs, batch_size, dtype)\u001b[0m\n\u001b[0;32m   2514\u001b[0m \u001b[1;33m\u001b[0m\u001b[0m\n\u001b[0;32m   2515\u001b[0m   \u001b[1;32mdef\u001b[0m \u001b[0mget_initial_state\u001b[0m\u001b[1;33m(\u001b[0m\u001b[0mself\u001b[0m\u001b[1;33m,\u001b[0m \u001b[0minputs\u001b[0m\u001b[1;33m=\u001b[0m\u001b[1;32mNone\u001b[0m\u001b[1;33m,\u001b[0m \u001b[0mbatch_size\u001b[0m\u001b[1;33m=\u001b[0m\u001b[1;32mNone\u001b[0m\u001b[1;33m,\u001b[0m \u001b[0mdtype\u001b[0m\u001b[1;33m=\u001b[0m\u001b[1;32mNone\u001b[0m\u001b[1;33m)\u001b[0m\u001b[1;33m:\u001b[0m\u001b[1;33m\u001b[0m\u001b[1;33m\u001b[0m\u001b[0m\n\u001b[1;32m-> 2516\u001b[1;33m     return list(_generate_zero_filled_state_for_cell(\n\u001b[0m\u001b[0;32m   2517\u001b[0m         self, inputs, batch_size, dtype))\n\u001b[0;32m   2518\u001b[0m \u001b[1;33m\u001b[0m\u001b[0m\n",
      "\u001b[1;32mC:\\Anaconda\\envs\\tensorflow25py38\\lib\\site-packages\\tensorflow\\python\\keras\\layers\\recurrent.py\u001b[0m in \u001b[0;36m_generate_zero_filled_state_for_cell\u001b[1;34m(cell, inputs, batch_size, dtype)\u001b[0m\n\u001b[0;32m   2996\u001b[0m     \u001b[0mbatch_size\u001b[0m \u001b[1;33m=\u001b[0m \u001b[0marray_ops\u001b[0m\u001b[1;33m.\u001b[0m\u001b[0mshape\u001b[0m\u001b[1;33m(\u001b[0m\u001b[0minputs\u001b[0m\u001b[1;33m)\u001b[0m\u001b[1;33m[\u001b[0m\u001b[1;36m0\u001b[0m\u001b[1;33m]\u001b[0m\u001b[1;33m\u001b[0m\u001b[1;33m\u001b[0m\u001b[0m\n\u001b[0;32m   2997\u001b[0m     \u001b[0mdtype\u001b[0m \u001b[1;33m=\u001b[0m \u001b[0minputs\u001b[0m\u001b[1;33m.\u001b[0m\u001b[0mdtype\u001b[0m\u001b[1;33m\u001b[0m\u001b[1;33m\u001b[0m\u001b[0m\n\u001b[1;32m-> 2998\u001b[1;33m   \u001b[1;32mreturn\u001b[0m \u001b[0m_generate_zero_filled_state\u001b[0m\u001b[1;33m(\u001b[0m\u001b[0mbatch_size\u001b[0m\u001b[1;33m,\u001b[0m \u001b[0mcell\u001b[0m\u001b[1;33m.\u001b[0m\u001b[0mstate_size\u001b[0m\u001b[1;33m,\u001b[0m \u001b[0mdtype\u001b[0m\u001b[1;33m)\u001b[0m\u001b[1;33m\u001b[0m\u001b[1;33m\u001b[0m\u001b[0m\n\u001b[0m\u001b[0;32m   2999\u001b[0m \u001b[1;33m\u001b[0m\u001b[0m\n\u001b[0;32m   3000\u001b[0m \u001b[1;33m\u001b[0m\u001b[0m\n",
      "\u001b[1;32mC:\\Anaconda\\envs\\tensorflow25py38\\lib\\site-packages\\tensorflow\\python\\keras\\layers\\recurrent.py\u001b[0m in \u001b[0;36m_generate_zero_filled_state\u001b[1;34m(batch_size_tensor, state_size, dtype)\u001b[0m\n\u001b[0;32m   3012\u001b[0m \u001b[1;33m\u001b[0m\u001b[0m\n\u001b[0;32m   3013\u001b[0m   \u001b[1;32mif\u001b[0m \u001b[0mnest\u001b[0m\u001b[1;33m.\u001b[0m\u001b[0mis_nested\u001b[0m\u001b[1;33m(\u001b[0m\u001b[0mstate_size\u001b[0m\u001b[1;33m)\u001b[0m\u001b[1;33m:\u001b[0m\u001b[1;33m\u001b[0m\u001b[1;33m\u001b[0m\u001b[0m\n\u001b[1;32m-> 3014\u001b[1;33m     \u001b[1;32mreturn\u001b[0m \u001b[0mnest\u001b[0m\u001b[1;33m.\u001b[0m\u001b[0mmap_structure\u001b[0m\u001b[1;33m(\u001b[0m\u001b[0mcreate_zeros\u001b[0m\u001b[1;33m,\u001b[0m \u001b[0mstate_size\u001b[0m\u001b[1;33m)\u001b[0m\u001b[1;33m\u001b[0m\u001b[1;33m\u001b[0m\u001b[0m\n\u001b[0m\u001b[0;32m   3015\u001b[0m   \u001b[1;32melse\u001b[0m\u001b[1;33m:\u001b[0m\u001b[1;33m\u001b[0m\u001b[1;33m\u001b[0m\u001b[0m\n\u001b[0;32m   3016\u001b[0m     \u001b[1;32mreturn\u001b[0m \u001b[0mcreate_zeros\u001b[0m\u001b[1;33m(\u001b[0m\u001b[0mstate_size\u001b[0m\u001b[1;33m)\u001b[0m\u001b[1;33m\u001b[0m\u001b[1;33m\u001b[0m\u001b[0m\n",
      "\u001b[1;32mC:\\Anaconda\\envs\\tensorflow25py38\\lib\\site-packages\\tensorflow\\python\\util\\nest.py\u001b[0m in \u001b[0;36mmap_structure\u001b[1;34m(func, *structure, **kwargs)\u001b[0m\n\u001b[0;32m    865\u001b[0m \u001b[1;33m\u001b[0m\u001b[0m\n\u001b[0;32m    866\u001b[0m   return pack_sequence_as(\n\u001b[1;32m--> 867\u001b[1;33m       \u001b[0mstructure\u001b[0m\u001b[1;33m[\u001b[0m\u001b[1;36m0\u001b[0m\u001b[1;33m]\u001b[0m\u001b[1;33m,\u001b[0m \u001b[1;33m[\u001b[0m\u001b[0mfunc\u001b[0m\u001b[1;33m(\u001b[0m\u001b[1;33m*\u001b[0m\u001b[0mx\u001b[0m\u001b[1;33m)\u001b[0m \u001b[1;32mfor\u001b[0m \u001b[0mx\u001b[0m \u001b[1;32min\u001b[0m \u001b[0mentries\u001b[0m\u001b[1;33m]\u001b[0m\u001b[1;33m,\u001b[0m\u001b[1;33m\u001b[0m\u001b[1;33m\u001b[0m\u001b[0m\n\u001b[0m\u001b[0;32m    868\u001b[0m       expand_composites=expand_composites)\n\u001b[0;32m    869\u001b[0m \u001b[1;33m\u001b[0m\u001b[0m\n",
      "\u001b[1;32mC:\\Anaconda\\envs\\tensorflow25py38\\lib\\site-packages\\tensorflow\\python\\util\\nest.py\u001b[0m in \u001b[0;36m<listcomp>\u001b[1;34m(.0)\u001b[0m\n\u001b[0;32m    865\u001b[0m \u001b[1;33m\u001b[0m\u001b[0m\n\u001b[0;32m    866\u001b[0m   return pack_sequence_as(\n\u001b[1;32m--> 867\u001b[1;33m       \u001b[0mstructure\u001b[0m\u001b[1;33m[\u001b[0m\u001b[1;36m0\u001b[0m\u001b[1;33m]\u001b[0m\u001b[1;33m,\u001b[0m \u001b[1;33m[\u001b[0m\u001b[0mfunc\u001b[0m\u001b[1;33m(\u001b[0m\u001b[1;33m*\u001b[0m\u001b[0mx\u001b[0m\u001b[1;33m)\u001b[0m \u001b[1;32mfor\u001b[0m \u001b[0mx\u001b[0m \u001b[1;32min\u001b[0m \u001b[0mentries\u001b[0m\u001b[1;33m]\u001b[0m\u001b[1;33m,\u001b[0m\u001b[1;33m\u001b[0m\u001b[1;33m\u001b[0m\u001b[0m\n\u001b[0m\u001b[0;32m    868\u001b[0m       expand_composites=expand_composites)\n\u001b[0;32m    869\u001b[0m \u001b[1;33m\u001b[0m\u001b[0m\n",
      "\u001b[1;32mC:\\Anaconda\\envs\\tensorflow25py38\\lib\\site-packages\\tensorflow\\python\\keras\\layers\\recurrent.py\u001b[0m in \u001b[0;36mcreate_zeros\u001b[1;34m(unnested_state_size)\u001b[0m\n\u001b[0;32m   3009\u001b[0m     \u001b[0mflat_dims\u001b[0m \u001b[1;33m=\u001b[0m \u001b[0mtensor_shape\u001b[0m\u001b[1;33m.\u001b[0m\u001b[0mTensorShape\u001b[0m\u001b[1;33m(\u001b[0m\u001b[0munnested_state_size\u001b[0m\u001b[1;33m)\u001b[0m\u001b[1;33m.\u001b[0m\u001b[0mas_list\u001b[0m\u001b[1;33m(\u001b[0m\u001b[1;33m)\u001b[0m\u001b[1;33m\u001b[0m\u001b[1;33m\u001b[0m\u001b[0m\n\u001b[0;32m   3010\u001b[0m     \u001b[0minit_state_size\u001b[0m \u001b[1;33m=\u001b[0m \u001b[1;33m[\u001b[0m\u001b[0mbatch_size_tensor\u001b[0m\u001b[1;33m]\u001b[0m \u001b[1;33m+\u001b[0m \u001b[0mflat_dims\u001b[0m\u001b[1;33m\u001b[0m\u001b[1;33m\u001b[0m\u001b[0m\n\u001b[1;32m-> 3011\u001b[1;33m     \u001b[1;32mreturn\u001b[0m \u001b[0marray_ops\u001b[0m\u001b[1;33m.\u001b[0m\u001b[0mzeros\u001b[0m\u001b[1;33m(\u001b[0m\u001b[0minit_state_size\u001b[0m\u001b[1;33m,\u001b[0m \u001b[0mdtype\u001b[0m\u001b[1;33m=\u001b[0m\u001b[0mdtype\u001b[0m\u001b[1;33m)\u001b[0m\u001b[1;33m\u001b[0m\u001b[1;33m\u001b[0m\u001b[0m\n\u001b[0m\u001b[0;32m   3012\u001b[0m \u001b[1;33m\u001b[0m\u001b[0m\n\u001b[0;32m   3013\u001b[0m   \u001b[1;32mif\u001b[0m \u001b[0mnest\u001b[0m\u001b[1;33m.\u001b[0m\u001b[0mis_nested\u001b[0m\u001b[1;33m(\u001b[0m\u001b[0mstate_size\u001b[0m\u001b[1;33m)\u001b[0m\u001b[1;33m:\u001b[0m\u001b[1;33m\u001b[0m\u001b[1;33m\u001b[0m\u001b[0m\n",
      "\u001b[1;32mC:\\Anaconda\\envs\\tensorflow25py38\\lib\\site-packages\\tensorflow\\python\\util\\dispatch.py\u001b[0m in \u001b[0;36mwrapper\u001b[1;34m(*args, **kwargs)\u001b[0m\n\u001b[0;32m    204\u001b[0m     \u001b[1;34m\"\"\"Call target, and fall back on dispatchers if there is a TypeError.\"\"\"\u001b[0m\u001b[1;33m\u001b[0m\u001b[1;33m\u001b[0m\u001b[0m\n\u001b[0;32m    205\u001b[0m     \u001b[1;32mtry\u001b[0m\u001b[1;33m:\u001b[0m\u001b[1;33m\u001b[0m\u001b[1;33m\u001b[0m\u001b[0m\n\u001b[1;32m--> 206\u001b[1;33m       \u001b[1;32mreturn\u001b[0m \u001b[0mtarget\u001b[0m\u001b[1;33m(\u001b[0m\u001b[1;33m*\u001b[0m\u001b[0margs\u001b[0m\u001b[1;33m,\u001b[0m \u001b[1;33m**\u001b[0m\u001b[0mkwargs\u001b[0m\u001b[1;33m)\u001b[0m\u001b[1;33m\u001b[0m\u001b[1;33m\u001b[0m\u001b[0m\n\u001b[0m\u001b[0;32m    207\u001b[0m     \u001b[1;32mexcept\u001b[0m \u001b[1;33m(\u001b[0m\u001b[0mTypeError\u001b[0m\u001b[1;33m,\u001b[0m \u001b[0mValueError\u001b[0m\u001b[1;33m)\u001b[0m\u001b[1;33m:\u001b[0m\u001b[1;33m\u001b[0m\u001b[1;33m\u001b[0m\u001b[0m\n\u001b[0;32m    208\u001b[0m       \u001b[1;31m# Note: convert_to_eager_tensor currently raises a ValueError, not a\u001b[0m\u001b[1;33m\u001b[0m\u001b[1;33m\u001b[0m\u001b[1;33m\u001b[0m\u001b[0m\n",
      "\u001b[1;32mC:\\Anaconda\\envs\\tensorflow25py38\\lib\\site-packages\\tensorflow\\python\\ops\\array_ops.py\u001b[0m in \u001b[0;36mwrapped\u001b[1;34m(*args, **kwargs)\u001b[0m\n\u001b[0;32m   2909\u001b[0m \u001b[1;33m\u001b[0m\u001b[0m\n\u001b[0;32m   2910\u001b[0m   \u001b[1;32mdef\u001b[0m \u001b[0mwrapped\u001b[0m\u001b[1;33m(\u001b[0m\u001b[1;33m*\u001b[0m\u001b[0margs\u001b[0m\u001b[1;33m,\u001b[0m \u001b[1;33m**\u001b[0m\u001b[0mkwargs\u001b[0m\u001b[1;33m)\u001b[0m\u001b[1;33m:\u001b[0m\u001b[1;33m\u001b[0m\u001b[1;33m\u001b[0m\u001b[0m\n\u001b[1;32m-> 2911\u001b[1;33m     \u001b[0mtensor\u001b[0m \u001b[1;33m=\u001b[0m \u001b[0mfun\u001b[0m\u001b[1;33m(\u001b[0m\u001b[1;33m*\u001b[0m\u001b[0margs\u001b[0m\u001b[1;33m,\u001b[0m \u001b[1;33m**\u001b[0m\u001b[0mkwargs\u001b[0m\u001b[1;33m)\u001b[0m\u001b[1;33m\u001b[0m\u001b[1;33m\u001b[0m\u001b[0m\n\u001b[0m\u001b[0;32m   2912\u001b[0m     \u001b[0mtensor\u001b[0m\u001b[1;33m.\u001b[0m\u001b[0m_is_zeros_tensor\u001b[0m \u001b[1;33m=\u001b[0m \u001b[1;32mTrue\u001b[0m\u001b[1;33m\u001b[0m\u001b[1;33m\u001b[0m\u001b[0m\n\u001b[0;32m   2913\u001b[0m     \u001b[1;32mreturn\u001b[0m \u001b[0mtensor\u001b[0m\u001b[1;33m\u001b[0m\u001b[1;33m\u001b[0m\u001b[0m\n",
      "\u001b[1;32mC:\\Anaconda\\envs\\tensorflow25py38\\lib\\site-packages\\tensorflow\\python\\ops\\array_ops.py\u001b[0m in \u001b[0;36mzeros\u001b[1;34m(shape, dtype, name)\u001b[0m\n\u001b[0;32m   2958\u001b[0m           \u001b[1;31m# Create a constant if it won't be very big. Otherwise create a fill\u001b[0m\u001b[1;33m\u001b[0m\u001b[1;33m\u001b[0m\u001b[1;33m\u001b[0m\u001b[0m\n\u001b[0;32m   2959\u001b[0m           \u001b[1;31m# op to prevent serialized GraphDefs from becoming too large.\u001b[0m\u001b[1;33m\u001b[0m\u001b[1;33m\u001b[0m\u001b[1;33m\u001b[0m\u001b[0m\n\u001b[1;32m-> 2960\u001b[1;33m           \u001b[0moutput\u001b[0m \u001b[1;33m=\u001b[0m \u001b[0m_constant_if_small\u001b[0m\u001b[1;33m(\u001b[0m\u001b[0mzero\u001b[0m\u001b[1;33m,\u001b[0m \u001b[0mshape\u001b[0m\u001b[1;33m,\u001b[0m \u001b[0mdtype\u001b[0m\u001b[1;33m,\u001b[0m \u001b[0mname\u001b[0m\u001b[1;33m)\u001b[0m\u001b[1;33m\u001b[0m\u001b[1;33m\u001b[0m\u001b[0m\n\u001b[0m\u001b[0;32m   2961\u001b[0m           \u001b[1;32mif\u001b[0m \u001b[0moutput\u001b[0m \u001b[1;32mis\u001b[0m \u001b[1;32mnot\u001b[0m \u001b[1;32mNone\u001b[0m\u001b[1;33m:\u001b[0m\u001b[1;33m\u001b[0m\u001b[1;33m\u001b[0m\u001b[0m\n\u001b[0;32m   2962\u001b[0m             \u001b[1;32mreturn\u001b[0m \u001b[0moutput\u001b[0m\u001b[1;33m\u001b[0m\u001b[1;33m\u001b[0m\u001b[0m\n",
      "\u001b[1;32mC:\\Anaconda\\envs\\tensorflow25py38\\lib\\site-packages\\tensorflow\\python\\ops\\array_ops.py\u001b[0m in \u001b[0;36m_constant_if_small\u001b[1;34m(value, shape, dtype, name)\u001b[0m\n\u001b[0;32m   2894\u001b[0m \u001b[1;32mdef\u001b[0m \u001b[0m_constant_if_small\u001b[0m\u001b[1;33m(\u001b[0m\u001b[0mvalue\u001b[0m\u001b[1;33m,\u001b[0m \u001b[0mshape\u001b[0m\u001b[1;33m,\u001b[0m \u001b[0mdtype\u001b[0m\u001b[1;33m,\u001b[0m \u001b[0mname\u001b[0m\u001b[1;33m)\u001b[0m\u001b[1;33m:\u001b[0m\u001b[1;33m\u001b[0m\u001b[1;33m\u001b[0m\u001b[0m\n\u001b[0;32m   2895\u001b[0m   \u001b[1;32mtry\u001b[0m\u001b[1;33m:\u001b[0m\u001b[1;33m\u001b[0m\u001b[1;33m\u001b[0m\u001b[0m\n\u001b[1;32m-> 2896\u001b[1;33m     \u001b[1;32mif\u001b[0m \u001b[0mnp\u001b[0m\u001b[1;33m.\u001b[0m\u001b[0mprod\u001b[0m\u001b[1;33m(\u001b[0m\u001b[0mshape\u001b[0m\u001b[1;33m)\u001b[0m \u001b[1;33m<\u001b[0m \u001b[1;36m1000\u001b[0m\u001b[1;33m:\u001b[0m\u001b[1;33m\u001b[0m\u001b[1;33m\u001b[0m\u001b[0m\n\u001b[0m\u001b[0;32m   2897\u001b[0m       \u001b[1;32mreturn\u001b[0m \u001b[0mconstant\u001b[0m\u001b[1;33m(\u001b[0m\u001b[0mvalue\u001b[0m\u001b[1;33m,\u001b[0m \u001b[0mshape\u001b[0m\u001b[1;33m=\u001b[0m\u001b[0mshape\u001b[0m\u001b[1;33m,\u001b[0m \u001b[0mdtype\u001b[0m\u001b[1;33m=\u001b[0m\u001b[0mdtype\u001b[0m\u001b[1;33m,\u001b[0m \u001b[0mname\u001b[0m\u001b[1;33m=\u001b[0m\u001b[0mname\u001b[0m\u001b[1;33m)\u001b[0m\u001b[1;33m\u001b[0m\u001b[1;33m\u001b[0m\u001b[0m\n\u001b[0;32m   2898\u001b[0m   \u001b[1;32mexcept\u001b[0m \u001b[0mTypeError\u001b[0m\u001b[1;33m:\u001b[0m\u001b[1;33m\u001b[0m\u001b[1;33m\u001b[0m\u001b[0m\n",
      "\u001b[1;32m<__array_function__ internals>\u001b[0m in \u001b[0;36mprod\u001b[1;34m(*args, **kwargs)\u001b[0m\n",
      "\u001b[1;32mC:\\Anaconda\\envs\\tensorflow25py38\\lib\\site-packages\\numpy\\core\\fromnumeric.py\u001b[0m in \u001b[0;36mprod\u001b[1;34m(a, axis, dtype, out, keepdims, initial, where)\u001b[0m\n\u001b[0;32m   3028\u001b[0m     \u001b[1;36m10\u001b[0m\u001b[1;33m\u001b[0m\u001b[1;33m\u001b[0m\u001b[0m\n\u001b[0;32m   3029\u001b[0m     \"\"\"\n\u001b[1;32m-> 3030\u001b[1;33m     return _wrapreduction(a, np.multiply, 'prod', axis, dtype, out,\n\u001b[0m\u001b[0;32m   3031\u001b[0m                           keepdims=keepdims, initial=initial, where=where)\n\u001b[0;32m   3032\u001b[0m \u001b[1;33m\u001b[0m\u001b[0m\n",
      "\u001b[1;32mC:\\Anaconda\\envs\\tensorflow25py38\\lib\\site-packages\\numpy\\core\\fromnumeric.py\u001b[0m in \u001b[0;36m_wrapreduction\u001b[1;34m(obj, ufunc, method, axis, dtype, out, **kwargs)\u001b[0m\n\u001b[0;32m     85\u001b[0m                 \u001b[1;32mreturn\u001b[0m \u001b[0mreduction\u001b[0m\u001b[1;33m(\u001b[0m\u001b[0maxis\u001b[0m\u001b[1;33m=\u001b[0m\u001b[0maxis\u001b[0m\u001b[1;33m,\u001b[0m \u001b[0mout\u001b[0m\u001b[1;33m=\u001b[0m\u001b[0mout\u001b[0m\u001b[1;33m,\u001b[0m \u001b[1;33m**\u001b[0m\u001b[0mpasskwargs\u001b[0m\u001b[1;33m)\u001b[0m\u001b[1;33m\u001b[0m\u001b[1;33m\u001b[0m\u001b[0m\n\u001b[0;32m     86\u001b[0m \u001b[1;33m\u001b[0m\u001b[0m\n\u001b[1;32m---> 87\u001b[1;33m     \u001b[1;32mreturn\u001b[0m \u001b[0mufunc\u001b[0m\u001b[1;33m.\u001b[0m\u001b[0mreduce\u001b[0m\u001b[1;33m(\u001b[0m\u001b[0mobj\u001b[0m\u001b[1;33m,\u001b[0m \u001b[0maxis\u001b[0m\u001b[1;33m,\u001b[0m \u001b[0mdtype\u001b[0m\u001b[1;33m,\u001b[0m \u001b[0mout\u001b[0m\u001b[1;33m,\u001b[0m \u001b[1;33m**\u001b[0m\u001b[0mpasskwargs\u001b[0m\u001b[1;33m)\u001b[0m\u001b[1;33m\u001b[0m\u001b[1;33m\u001b[0m\u001b[0m\n\u001b[0m\u001b[0;32m     88\u001b[0m \u001b[1;33m\u001b[0m\u001b[0m\n\u001b[0;32m     89\u001b[0m \u001b[1;33m\u001b[0m\u001b[0m\n",
      "\u001b[1;32mC:\\Anaconda\\envs\\tensorflow25py38\\lib\\site-packages\\tensorflow\\python\\framework\\ops.py\u001b[0m in \u001b[0;36m__array__\u001b[1;34m(self)\u001b[0m\n\u001b[0;32m    865\u001b[0m \u001b[1;33m\u001b[0m\u001b[0m\n\u001b[0;32m    866\u001b[0m   \u001b[1;32mdef\u001b[0m \u001b[0m__array__\u001b[0m\u001b[1;33m(\u001b[0m\u001b[0mself\u001b[0m\u001b[1;33m)\u001b[0m\u001b[1;33m:\u001b[0m\u001b[1;33m\u001b[0m\u001b[1;33m\u001b[0m\u001b[0m\n\u001b[1;32m--> 867\u001b[1;33m     raise NotImplementedError(\n\u001b[0m\u001b[0;32m    868\u001b[0m         \u001b[1;34m\"Cannot convert a symbolic Tensor ({}) to a numpy array.\"\u001b[0m\u001b[1;33m\u001b[0m\u001b[1;33m\u001b[0m\u001b[0m\n\u001b[0;32m    869\u001b[0m         \u001b[1;34m\" This error may indicate that you're trying to pass a Tensor to\"\u001b[0m\u001b[1;33m\u001b[0m\u001b[1;33m\u001b[0m\u001b[0m\n",
      "\u001b[1;31mNotImplementedError\u001b[0m: Cannot convert a symbolic Tensor (LSTM_1st_layer/strided_slice:0) to a numpy array. This error may indicate that you're trying to pass a Tensor to a NumPy call, which is not supported"
     ]
    }
   ],
   "source": [
    "%%time\n",
    "# Building the Model\n",
    "model = Sequential()\n",
    "\n",
    "model.add(LSTM(32, return_sequences = True, input_shape = (X_train_scaled.shape[1],X_train_scaled.shape[2]),\n",
    "              kernel_regularizer = l2(0.00001), bias_regularizer = l2(0.00001), name = 'LSTM_1st_layer'))\n",
    "model.add(Dropout(0.5, name = 'Dropout_1'))\n",
    "model.add(Flatten(name = 'Flatten_2nd_layer'))\n",
    "model.add(Dropout(0.5, name = 'Dropout_2'))\n",
    "model.add(Dense(32, activation = 'relu', kernel_regularizer=l2(0.00001), bias_regularizer = l2(0.00001), name = 'Dense_3rd_layer'))\n",
    "model.add(Dropout(0.1, name = 'Dropout_3'))\n",
    "model.add(Dense(4, activation='softmax',\n",
    "               kernel_regularizer=l2(0.00001), bias_regularizer = l2(0.00001), name = 'Dense_Output_Layer'))\n",
    "model.summary()\n",
    "\n"
   ]
  },
  {
   "cell_type": "markdown",
   "id": "0d4a80c2",
   "metadata": {},
   "source": [
    "####  3.2 Compiling the LSTM layers"
   ]
  },
  {
   "cell_type": "code",
   "execution_count": 58,
   "id": "4eff7a48",
   "metadata": {},
   "outputs": [],
   "source": [
    "# compiling the model\n",
    "model.compile( loss = 'categorical_crossentropy', optimizer = Adam(), metrics = ['accuracy'] )\n"
   ]
  },
  {
   "cell_type": "markdown",
   "id": "c8b72a28",
   "metadata": {},
   "source": [
    "####  3.3 Calling callbacks to use ModelCheckpoint() to save the best performing iteration/epoch"
   ]
  },
  {
   "cell_type": "code",
   "execution_count": 59,
   "id": "87c65f74",
   "metadata": {},
   "outputs": [],
   "source": [
    "# preparing callbacks\n",
    "from keras.callbacks import ModelCheckpoint\n",
    "\n",
    "callbacks = [ModelCheckpoint('model.h5', save_weights_only=False, save_best_only=True, verbose =1 )]"
   ]
  },
  {
   "cell_type": "markdown",
   "id": "8254f0be",
   "metadata": {},
   "source": [
    "####  3.4 Fitting Model using model.fit()"
   ]
  },
  {
   "cell_type": "code",
   "execution_count": 60,
   "id": "dea33358",
   "metadata": {
    "scrolled": true
   },
   "outputs": [
    {
     "name": "stdout",
     "output_type": "stream",
     "text": [
      "Epoch 1/20\n"
     ]
    },
    {
     "ename": "ValueError",
     "evalue": "in user code:\n\n    C:\\Anaconda\\envs\\tensorflow25py38\\lib\\site-packages\\tensorflow\\python\\keras\\engine\\training.py:855 train_function  *\n        return step_function(self, iterator)\n    C:\\Anaconda\\envs\\tensorflow25py38\\lib\\site-packages\\tensorflow\\python\\keras\\engine\\training.py:845 step_function  **\n        outputs = model.distribute_strategy.run(run_step, args=(data,))\n    C:\\Anaconda\\envs\\tensorflow25py38\\lib\\site-packages\\tensorflow\\python\\distribute\\distribute_lib.py:1285 run\n        return self._extended.call_for_each_replica(fn, args=args, kwargs=kwargs)\n    C:\\Anaconda\\envs\\tensorflow25py38\\lib\\site-packages\\tensorflow\\python\\distribute\\distribute_lib.py:2833 call_for_each_replica\n        return self._call_for_each_replica(fn, args, kwargs)\n    C:\\Anaconda\\envs\\tensorflow25py38\\lib\\site-packages\\tensorflow\\python\\distribute\\distribute_lib.py:3608 _call_for_each_replica\n        return fn(*args, **kwargs)\n    C:\\Anaconda\\envs\\tensorflow25py38\\lib\\site-packages\\tensorflow\\python\\keras\\engine\\training.py:838 run_step  **\n        outputs = model.train_step(data)\n    C:\\Anaconda\\envs\\tensorflow25py38\\lib\\site-packages\\tensorflow\\python\\keras\\engine\\training.py:796 train_step\n        loss = self.compiled_loss(\n    C:\\Anaconda\\envs\\tensorflow25py38\\lib\\site-packages\\tensorflow\\python\\keras\\engine\\compile_utils.py:204 __call__\n        loss_value = loss_obj(y_t, y_p, sample_weight=sw)\n    C:\\Anaconda\\envs\\tensorflow25py38\\lib\\site-packages\\tensorflow\\python\\keras\\losses.py:155 __call__\n        losses = call_fn(y_true, y_pred)\n    C:\\Anaconda\\envs\\tensorflow25py38\\lib\\site-packages\\tensorflow\\python\\keras\\losses.py:259 call  **\n        return ag_fn(y_true, y_pred, **self._fn_kwargs)\n    C:\\Anaconda\\envs\\tensorflow25py38\\lib\\site-packages\\tensorflow\\python\\util\\dispatch.py:206 wrapper\n        return target(*args, **kwargs)\n    C:\\Anaconda\\envs\\tensorflow25py38\\lib\\site-packages\\tensorflow\\python\\keras\\losses.py:1643 categorical_crossentropy\n        return backend.categorical_crossentropy(\n    C:\\Anaconda\\envs\\tensorflow25py38\\lib\\site-packages\\tensorflow\\python\\util\\dispatch.py:206 wrapper\n        return target(*args, **kwargs)\n    C:\\Anaconda\\envs\\tensorflow25py38\\lib\\site-packages\\tensorflow\\python\\keras\\backend.py:4862 categorical_crossentropy\n        target.shape.assert_is_compatible_with(output.shape)\n    C:\\Anaconda\\envs\\tensorflow25py38\\lib\\site-packages\\tensorflow\\python\\framework\\tensor_shape.py:1161 assert_is_compatible_with\n        raise ValueError(\"Shapes %s and %s are incompatible\" % (self, other))\n\n    ValueError: Shapes (None, 4) and (None, 50, 6) are incompatible\n",
     "output_type": "error",
     "traceback": [
      "\u001b[1;31m---------------------------------------------------------------------------\u001b[0m",
      "\u001b[1;31mValueError\u001b[0m                                Traceback (most recent call last)",
      "\u001b[1;32m<timed exec>\u001b[0m in \u001b[0;36m<module>\u001b[1;34m\u001b[0m\n",
      "\u001b[1;32mC:\\Anaconda\\envs\\tensorflow25py38\\lib\\site-packages\\tensorflow\\python\\keras\\engine\\training.py\u001b[0m in \u001b[0;36mfit\u001b[1;34m(self, x, y, batch_size, epochs, verbose, callbacks, validation_split, validation_data, shuffle, class_weight, sample_weight, initial_epoch, steps_per_epoch, validation_steps, validation_batch_size, validation_freq, max_queue_size, workers, use_multiprocessing)\u001b[0m\n\u001b[0;32m   1181\u001b[0m                 _r=1):\n\u001b[0;32m   1182\u001b[0m               \u001b[0mcallbacks\u001b[0m\u001b[1;33m.\u001b[0m\u001b[0mon_train_batch_begin\u001b[0m\u001b[1;33m(\u001b[0m\u001b[0mstep\u001b[0m\u001b[1;33m)\u001b[0m\u001b[1;33m\u001b[0m\u001b[1;33m\u001b[0m\u001b[0m\n\u001b[1;32m-> 1183\u001b[1;33m               \u001b[0mtmp_logs\u001b[0m \u001b[1;33m=\u001b[0m \u001b[0mself\u001b[0m\u001b[1;33m.\u001b[0m\u001b[0mtrain_function\u001b[0m\u001b[1;33m(\u001b[0m\u001b[0miterator\u001b[0m\u001b[1;33m)\u001b[0m\u001b[1;33m\u001b[0m\u001b[1;33m\u001b[0m\u001b[0m\n\u001b[0m\u001b[0;32m   1184\u001b[0m               \u001b[1;32mif\u001b[0m \u001b[0mdata_handler\u001b[0m\u001b[1;33m.\u001b[0m\u001b[0mshould_sync\u001b[0m\u001b[1;33m:\u001b[0m\u001b[1;33m\u001b[0m\u001b[1;33m\u001b[0m\u001b[0m\n\u001b[0;32m   1185\u001b[0m                 \u001b[0mcontext\u001b[0m\u001b[1;33m.\u001b[0m\u001b[0masync_wait\u001b[0m\u001b[1;33m(\u001b[0m\u001b[1;33m)\u001b[0m\u001b[1;33m\u001b[0m\u001b[1;33m\u001b[0m\u001b[0m\n",
      "\u001b[1;32mC:\\Anaconda\\envs\\tensorflow25py38\\lib\\site-packages\\tensorflow\\python\\eager\\def_function.py\u001b[0m in \u001b[0;36m__call__\u001b[1;34m(self, *args, **kwds)\u001b[0m\n\u001b[0;32m    887\u001b[0m \u001b[1;33m\u001b[0m\u001b[0m\n\u001b[0;32m    888\u001b[0m       \u001b[1;32mwith\u001b[0m \u001b[0mOptionalXlaContext\u001b[0m\u001b[1;33m(\u001b[0m\u001b[0mself\u001b[0m\u001b[1;33m.\u001b[0m\u001b[0m_jit_compile\u001b[0m\u001b[1;33m)\u001b[0m\u001b[1;33m:\u001b[0m\u001b[1;33m\u001b[0m\u001b[1;33m\u001b[0m\u001b[0m\n\u001b[1;32m--> 889\u001b[1;33m         \u001b[0mresult\u001b[0m \u001b[1;33m=\u001b[0m \u001b[0mself\u001b[0m\u001b[1;33m.\u001b[0m\u001b[0m_call\u001b[0m\u001b[1;33m(\u001b[0m\u001b[1;33m*\u001b[0m\u001b[0margs\u001b[0m\u001b[1;33m,\u001b[0m \u001b[1;33m**\u001b[0m\u001b[0mkwds\u001b[0m\u001b[1;33m)\u001b[0m\u001b[1;33m\u001b[0m\u001b[1;33m\u001b[0m\u001b[0m\n\u001b[0m\u001b[0;32m    890\u001b[0m \u001b[1;33m\u001b[0m\u001b[0m\n\u001b[0;32m    891\u001b[0m       \u001b[0mnew_tracing_count\u001b[0m \u001b[1;33m=\u001b[0m \u001b[0mself\u001b[0m\u001b[1;33m.\u001b[0m\u001b[0mexperimental_get_tracing_count\u001b[0m\u001b[1;33m(\u001b[0m\u001b[1;33m)\u001b[0m\u001b[1;33m\u001b[0m\u001b[1;33m\u001b[0m\u001b[0m\n",
      "\u001b[1;32mC:\\Anaconda\\envs\\tensorflow25py38\\lib\\site-packages\\tensorflow\\python\\eager\\def_function.py\u001b[0m in \u001b[0;36m_call\u001b[1;34m(self, *args, **kwds)\u001b[0m\n\u001b[0;32m    931\u001b[0m       \u001b[1;31m# This is the first call of __call__, so we have to initialize.\u001b[0m\u001b[1;33m\u001b[0m\u001b[1;33m\u001b[0m\u001b[1;33m\u001b[0m\u001b[0m\n\u001b[0;32m    932\u001b[0m       \u001b[0minitializers\u001b[0m \u001b[1;33m=\u001b[0m \u001b[1;33m[\u001b[0m\u001b[1;33m]\u001b[0m\u001b[1;33m\u001b[0m\u001b[1;33m\u001b[0m\u001b[0m\n\u001b[1;32m--> 933\u001b[1;33m       \u001b[0mself\u001b[0m\u001b[1;33m.\u001b[0m\u001b[0m_initialize\u001b[0m\u001b[1;33m(\u001b[0m\u001b[0margs\u001b[0m\u001b[1;33m,\u001b[0m \u001b[0mkwds\u001b[0m\u001b[1;33m,\u001b[0m \u001b[0madd_initializers_to\u001b[0m\u001b[1;33m=\u001b[0m\u001b[0minitializers\u001b[0m\u001b[1;33m)\u001b[0m\u001b[1;33m\u001b[0m\u001b[1;33m\u001b[0m\u001b[0m\n\u001b[0m\u001b[0;32m    934\u001b[0m     \u001b[1;32mfinally\u001b[0m\u001b[1;33m:\u001b[0m\u001b[1;33m\u001b[0m\u001b[1;33m\u001b[0m\u001b[0m\n\u001b[0;32m    935\u001b[0m       \u001b[1;31m# At this point we know that the initialization is complete (or less\u001b[0m\u001b[1;33m\u001b[0m\u001b[1;33m\u001b[0m\u001b[1;33m\u001b[0m\u001b[0m\n",
      "\u001b[1;32mC:\\Anaconda\\envs\\tensorflow25py38\\lib\\site-packages\\tensorflow\\python\\eager\\def_function.py\u001b[0m in \u001b[0;36m_initialize\u001b[1;34m(self, args, kwds, add_initializers_to)\u001b[0m\n\u001b[0;32m    761\u001b[0m     \u001b[0mself\u001b[0m\u001b[1;33m.\u001b[0m\u001b[0m_graph_deleter\u001b[0m \u001b[1;33m=\u001b[0m \u001b[0mFunctionDeleter\u001b[0m\u001b[1;33m(\u001b[0m\u001b[0mself\u001b[0m\u001b[1;33m.\u001b[0m\u001b[0m_lifted_initializer_graph\u001b[0m\u001b[1;33m)\u001b[0m\u001b[1;33m\u001b[0m\u001b[1;33m\u001b[0m\u001b[0m\n\u001b[0;32m    762\u001b[0m     self._concrete_stateful_fn = (\n\u001b[1;32m--> 763\u001b[1;33m         self._stateful_fn._get_concrete_function_internal_garbage_collected(  # pylint: disable=protected-access\n\u001b[0m\u001b[0;32m    764\u001b[0m             *args, **kwds))\n\u001b[0;32m    765\u001b[0m \u001b[1;33m\u001b[0m\u001b[0m\n",
      "\u001b[1;32mC:\\Anaconda\\envs\\tensorflow25py38\\lib\\site-packages\\tensorflow\\python\\eager\\function.py\u001b[0m in \u001b[0;36m_get_concrete_function_internal_garbage_collected\u001b[1;34m(self, *args, **kwargs)\u001b[0m\n\u001b[0;32m   3048\u001b[0m       \u001b[0margs\u001b[0m\u001b[1;33m,\u001b[0m \u001b[0mkwargs\u001b[0m \u001b[1;33m=\u001b[0m \u001b[1;32mNone\u001b[0m\u001b[1;33m,\u001b[0m \u001b[1;32mNone\u001b[0m\u001b[1;33m\u001b[0m\u001b[1;33m\u001b[0m\u001b[0m\n\u001b[0;32m   3049\u001b[0m     \u001b[1;32mwith\u001b[0m \u001b[0mself\u001b[0m\u001b[1;33m.\u001b[0m\u001b[0m_lock\u001b[0m\u001b[1;33m:\u001b[0m\u001b[1;33m\u001b[0m\u001b[1;33m\u001b[0m\u001b[0m\n\u001b[1;32m-> 3050\u001b[1;33m       \u001b[0mgraph_function\u001b[0m\u001b[1;33m,\u001b[0m \u001b[0m_\u001b[0m \u001b[1;33m=\u001b[0m \u001b[0mself\u001b[0m\u001b[1;33m.\u001b[0m\u001b[0m_maybe_define_function\u001b[0m\u001b[1;33m(\u001b[0m\u001b[0margs\u001b[0m\u001b[1;33m,\u001b[0m \u001b[0mkwargs\u001b[0m\u001b[1;33m)\u001b[0m\u001b[1;33m\u001b[0m\u001b[1;33m\u001b[0m\u001b[0m\n\u001b[0m\u001b[0;32m   3051\u001b[0m     \u001b[1;32mreturn\u001b[0m \u001b[0mgraph_function\u001b[0m\u001b[1;33m\u001b[0m\u001b[1;33m\u001b[0m\u001b[0m\n\u001b[0;32m   3052\u001b[0m \u001b[1;33m\u001b[0m\u001b[0m\n",
      "\u001b[1;32mC:\\Anaconda\\envs\\tensorflow25py38\\lib\\site-packages\\tensorflow\\python\\eager\\function.py\u001b[0m in \u001b[0;36m_maybe_define_function\u001b[1;34m(self, args, kwargs)\u001b[0m\n\u001b[0;32m   3442\u001b[0m \u001b[1;33m\u001b[0m\u001b[0m\n\u001b[0;32m   3443\u001b[0m           \u001b[0mself\u001b[0m\u001b[1;33m.\u001b[0m\u001b[0m_function_cache\u001b[0m\u001b[1;33m.\u001b[0m\u001b[0mmissed\u001b[0m\u001b[1;33m.\u001b[0m\u001b[0madd\u001b[0m\u001b[1;33m(\u001b[0m\u001b[0mcall_context_key\u001b[0m\u001b[1;33m)\u001b[0m\u001b[1;33m\u001b[0m\u001b[1;33m\u001b[0m\u001b[0m\n\u001b[1;32m-> 3444\u001b[1;33m           \u001b[0mgraph_function\u001b[0m \u001b[1;33m=\u001b[0m \u001b[0mself\u001b[0m\u001b[1;33m.\u001b[0m\u001b[0m_create_graph_function\u001b[0m\u001b[1;33m(\u001b[0m\u001b[0margs\u001b[0m\u001b[1;33m,\u001b[0m \u001b[0mkwargs\u001b[0m\u001b[1;33m)\u001b[0m\u001b[1;33m\u001b[0m\u001b[1;33m\u001b[0m\u001b[0m\n\u001b[0m\u001b[0;32m   3445\u001b[0m           \u001b[0mself\u001b[0m\u001b[1;33m.\u001b[0m\u001b[0m_function_cache\u001b[0m\u001b[1;33m.\u001b[0m\u001b[0mprimary\u001b[0m\u001b[1;33m[\u001b[0m\u001b[0mcache_key\u001b[0m\u001b[1;33m]\u001b[0m \u001b[1;33m=\u001b[0m \u001b[0mgraph_function\u001b[0m\u001b[1;33m\u001b[0m\u001b[1;33m\u001b[0m\u001b[0m\n\u001b[0;32m   3446\u001b[0m \u001b[1;33m\u001b[0m\u001b[0m\n",
      "\u001b[1;32mC:\\Anaconda\\envs\\tensorflow25py38\\lib\\site-packages\\tensorflow\\python\\eager\\function.py\u001b[0m in \u001b[0;36m_create_graph_function\u001b[1;34m(self, args, kwargs, override_flat_arg_shapes)\u001b[0m\n\u001b[0;32m   3277\u001b[0m     \u001b[0marg_names\u001b[0m \u001b[1;33m=\u001b[0m \u001b[0mbase_arg_names\u001b[0m \u001b[1;33m+\u001b[0m \u001b[0mmissing_arg_names\u001b[0m\u001b[1;33m\u001b[0m\u001b[1;33m\u001b[0m\u001b[0m\n\u001b[0;32m   3278\u001b[0m     graph_function = ConcreteFunction(\n\u001b[1;32m-> 3279\u001b[1;33m         func_graph_module.func_graph_from_py_func(\n\u001b[0m\u001b[0;32m   3280\u001b[0m             \u001b[0mself\u001b[0m\u001b[1;33m.\u001b[0m\u001b[0m_name\u001b[0m\u001b[1;33m,\u001b[0m\u001b[1;33m\u001b[0m\u001b[1;33m\u001b[0m\u001b[0m\n\u001b[0;32m   3281\u001b[0m             \u001b[0mself\u001b[0m\u001b[1;33m.\u001b[0m\u001b[0m_python_function\u001b[0m\u001b[1;33m,\u001b[0m\u001b[1;33m\u001b[0m\u001b[1;33m\u001b[0m\u001b[0m\n",
      "\u001b[1;32mC:\\Anaconda\\envs\\tensorflow25py38\\lib\\site-packages\\tensorflow\\python\\framework\\func_graph.py\u001b[0m in \u001b[0;36mfunc_graph_from_py_func\u001b[1;34m(name, python_func, args, kwargs, signature, func_graph, autograph, autograph_options, add_control_dependencies, arg_names, op_return_value, collections, capture_by_value, override_flat_arg_shapes)\u001b[0m\n\u001b[0;32m    997\u001b[0m         \u001b[0m_\u001b[0m\u001b[1;33m,\u001b[0m \u001b[0moriginal_func\u001b[0m \u001b[1;33m=\u001b[0m \u001b[0mtf_decorator\u001b[0m\u001b[1;33m.\u001b[0m\u001b[0munwrap\u001b[0m\u001b[1;33m(\u001b[0m\u001b[0mpython_func\u001b[0m\u001b[1;33m)\u001b[0m\u001b[1;33m\u001b[0m\u001b[1;33m\u001b[0m\u001b[0m\n\u001b[0;32m    998\u001b[0m \u001b[1;33m\u001b[0m\u001b[0m\n\u001b[1;32m--> 999\u001b[1;33m       \u001b[0mfunc_outputs\u001b[0m \u001b[1;33m=\u001b[0m \u001b[0mpython_func\u001b[0m\u001b[1;33m(\u001b[0m\u001b[1;33m*\u001b[0m\u001b[0mfunc_args\u001b[0m\u001b[1;33m,\u001b[0m \u001b[1;33m**\u001b[0m\u001b[0mfunc_kwargs\u001b[0m\u001b[1;33m)\u001b[0m\u001b[1;33m\u001b[0m\u001b[1;33m\u001b[0m\u001b[0m\n\u001b[0m\u001b[0;32m   1000\u001b[0m \u001b[1;33m\u001b[0m\u001b[0m\n\u001b[0;32m   1001\u001b[0m       \u001b[1;31m# invariant: `func_outputs` contains only Tensors, CompositeTensors,\u001b[0m\u001b[1;33m\u001b[0m\u001b[1;33m\u001b[0m\u001b[1;33m\u001b[0m\u001b[0m\n",
      "\u001b[1;32mC:\\Anaconda\\envs\\tensorflow25py38\\lib\\site-packages\\tensorflow\\python\\eager\\def_function.py\u001b[0m in \u001b[0;36mwrapped_fn\u001b[1;34m(*args, **kwds)\u001b[0m\n\u001b[0;32m    670\u001b[0m         \u001b[1;31m# the function a weak reference to itself to avoid a reference cycle.\u001b[0m\u001b[1;33m\u001b[0m\u001b[1;33m\u001b[0m\u001b[1;33m\u001b[0m\u001b[0m\n\u001b[0;32m    671\u001b[0m         \u001b[1;32mwith\u001b[0m \u001b[0mOptionalXlaContext\u001b[0m\u001b[1;33m(\u001b[0m\u001b[0mcompile_with_xla\u001b[0m\u001b[1;33m)\u001b[0m\u001b[1;33m:\u001b[0m\u001b[1;33m\u001b[0m\u001b[1;33m\u001b[0m\u001b[0m\n\u001b[1;32m--> 672\u001b[1;33m           \u001b[0mout\u001b[0m \u001b[1;33m=\u001b[0m \u001b[0mweak_wrapped_fn\u001b[0m\u001b[1;33m(\u001b[0m\u001b[1;33m)\u001b[0m\u001b[1;33m.\u001b[0m\u001b[0m__wrapped__\u001b[0m\u001b[1;33m(\u001b[0m\u001b[1;33m*\u001b[0m\u001b[0margs\u001b[0m\u001b[1;33m,\u001b[0m \u001b[1;33m**\u001b[0m\u001b[0mkwds\u001b[0m\u001b[1;33m)\u001b[0m\u001b[1;33m\u001b[0m\u001b[1;33m\u001b[0m\u001b[0m\n\u001b[0m\u001b[0;32m    673\u001b[0m         \u001b[1;32mreturn\u001b[0m \u001b[0mout\u001b[0m\u001b[1;33m\u001b[0m\u001b[1;33m\u001b[0m\u001b[0m\n\u001b[0;32m    674\u001b[0m \u001b[1;33m\u001b[0m\u001b[0m\n",
      "\u001b[1;32mC:\\Anaconda\\envs\\tensorflow25py38\\lib\\site-packages\\tensorflow\\python\\framework\\func_graph.py\u001b[0m in \u001b[0;36mwrapper\u001b[1;34m(*args, **kwargs)\u001b[0m\n\u001b[0;32m    984\u001b[0m           \u001b[1;32mexcept\u001b[0m \u001b[0mException\u001b[0m \u001b[1;32mas\u001b[0m \u001b[0me\u001b[0m\u001b[1;33m:\u001b[0m  \u001b[1;31m# pylint:disable=broad-except\u001b[0m\u001b[1;33m\u001b[0m\u001b[1;33m\u001b[0m\u001b[0m\n\u001b[0;32m    985\u001b[0m             \u001b[1;32mif\u001b[0m \u001b[0mhasattr\u001b[0m\u001b[1;33m(\u001b[0m\u001b[0me\u001b[0m\u001b[1;33m,\u001b[0m \u001b[1;34m\"ag_error_metadata\"\u001b[0m\u001b[1;33m)\u001b[0m\u001b[1;33m:\u001b[0m\u001b[1;33m\u001b[0m\u001b[1;33m\u001b[0m\u001b[0m\n\u001b[1;32m--> 986\u001b[1;33m               \u001b[1;32mraise\u001b[0m \u001b[0me\u001b[0m\u001b[1;33m.\u001b[0m\u001b[0mag_error_metadata\u001b[0m\u001b[1;33m.\u001b[0m\u001b[0mto_exception\u001b[0m\u001b[1;33m(\u001b[0m\u001b[0me\u001b[0m\u001b[1;33m)\u001b[0m\u001b[1;33m\u001b[0m\u001b[1;33m\u001b[0m\u001b[0m\n\u001b[0m\u001b[0;32m    987\u001b[0m             \u001b[1;32melse\u001b[0m\u001b[1;33m:\u001b[0m\u001b[1;33m\u001b[0m\u001b[1;33m\u001b[0m\u001b[0m\n\u001b[0;32m    988\u001b[0m               \u001b[1;32mraise\u001b[0m\u001b[1;33m\u001b[0m\u001b[1;33m\u001b[0m\u001b[0m\n",
      "\u001b[1;31mValueError\u001b[0m: in user code:\n\n    C:\\Anaconda\\envs\\tensorflow25py38\\lib\\site-packages\\tensorflow\\python\\keras\\engine\\training.py:855 train_function  *\n        return step_function(self, iterator)\n    C:\\Anaconda\\envs\\tensorflow25py38\\lib\\site-packages\\tensorflow\\python\\keras\\engine\\training.py:845 step_function  **\n        outputs = model.distribute_strategy.run(run_step, args=(data,))\n    C:\\Anaconda\\envs\\tensorflow25py38\\lib\\site-packages\\tensorflow\\python\\distribute\\distribute_lib.py:1285 run\n        return self._extended.call_for_each_replica(fn, args=args, kwargs=kwargs)\n    C:\\Anaconda\\envs\\tensorflow25py38\\lib\\site-packages\\tensorflow\\python\\distribute\\distribute_lib.py:2833 call_for_each_replica\n        return self._call_for_each_replica(fn, args, kwargs)\n    C:\\Anaconda\\envs\\tensorflow25py38\\lib\\site-packages\\tensorflow\\python\\distribute\\distribute_lib.py:3608 _call_for_each_replica\n        return fn(*args, **kwargs)\n    C:\\Anaconda\\envs\\tensorflow25py38\\lib\\site-packages\\tensorflow\\python\\keras\\engine\\training.py:838 run_step  **\n        outputs = model.train_step(data)\n    C:\\Anaconda\\envs\\tensorflow25py38\\lib\\site-packages\\tensorflow\\python\\keras\\engine\\training.py:796 train_step\n        loss = self.compiled_loss(\n    C:\\Anaconda\\envs\\tensorflow25py38\\lib\\site-packages\\tensorflow\\python\\keras\\engine\\compile_utils.py:204 __call__\n        loss_value = loss_obj(y_t, y_p, sample_weight=sw)\n    C:\\Anaconda\\envs\\tensorflow25py38\\lib\\site-packages\\tensorflow\\python\\keras\\losses.py:155 __call__\n        losses = call_fn(y_true, y_pred)\n    C:\\Anaconda\\envs\\tensorflow25py38\\lib\\site-packages\\tensorflow\\python\\keras\\losses.py:259 call  **\n        return ag_fn(y_true, y_pred, **self._fn_kwargs)\n    C:\\Anaconda\\envs\\tensorflow25py38\\lib\\site-packages\\tensorflow\\python\\util\\dispatch.py:206 wrapper\n        return target(*args, **kwargs)\n    C:\\Anaconda\\envs\\tensorflow25py38\\lib\\site-packages\\tensorflow\\python\\keras\\losses.py:1643 categorical_crossentropy\n        return backend.categorical_crossentropy(\n    C:\\Anaconda\\envs\\tensorflow25py38\\lib\\site-packages\\tensorflow\\python\\util\\dispatch.py:206 wrapper\n        return target(*args, **kwargs)\n    C:\\Anaconda\\envs\\tensorflow25py38\\lib\\site-packages\\tensorflow\\python\\keras\\backend.py:4862 categorical_crossentropy\n        target.shape.assert_is_compatible_with(output.shape)\n    C:\\Anaconda\\envs\\tensorflow25py38\\lib\\site-packages\\tensorflow\\python\\framework\\tensor_shape.py:1161 assert_is_compatible_with\n        raise ValueError(\"Shapes %s and %s are incompatible\" % (self, other))\n\n    ValueError: Shapes (None, 4) and (None, 50, 6) are incompatible\n"
     ]
    }
   ],
   "source": [
    "%%time\n",
    "# Fitting the model\n",
    "history = model.fit(X_train_scaled, y_train, epochs= 20, batch_size = 128, validation_data=(X_test_scaled,y_test), shuffle=False)"
   ]
  },
  {
   "cell_type": "code",
   "execution_count": 61,
   "id": "58ac2424",
   "metadata": {},
   "outputs": [
    {
     "ename": "NameError",
     "evalue": "name 'history' is not defined",
     "output_type": "error",
     "traceback": [
      "\u001b[1;31m---------------------------------------------------------------------------\u001b[0m",
      "\u001b[1;31mNameError\u001b[0m                                 Traceback (most recent call last)",
      "\u001b[1;32m<ipython-input-61-6cd13d6a221b>\u001b[0m in \u001b[0;36m<module>\u001b[1;34m\u001b[0m\n\u001b[1;32m----> 1\u001b[1;33m \u001b[0mhistory\u001b[0m\u001b[1;33m.\u001b[0m\u001b[0mhistory\u001b[0m\u001b[1;33m\u001b[0m\u001b[1;33m\u001b[0m\u001b[0m\n\u001b[0m",
      "\u001b[1;31mNameError\u001b[0m: name 'history' is not defined"
     ]
    }
   ],
   "source": [
    "history.history"
   ]
  },
  {
   "cell_type": "code",
   "execution_count": null,
   "id": "1b85e073",
   "metadata": {},
   "outputs": [],
   "source": [
    "def plot_learningCurve(history, epochs):\n",
    "  # Plot training & validation accuracy values\n",
    "  epoch_range = range(1, epochs+1)\n",
    "  plt.plot(epoch_range, history.history['accuracy'])\n",
    "  plt.plot(epoch_range, history.history['val_accuracy'])\n",
    "  plt.title('Model accuracy')\n",
    "  plt.ylabel('Accuracy')\n",
    "  plt.xlabel('Epoch')\n",
    "  plt.legend(['Train', 'Val'], loc='upper left')\n",
    "  plt.show()\n",
    "\n",
    "  # Plot training & validation loss values\n",
    "  plt.plot(epoch_range, history.history['loss'])\n",
    "  plt.plot(epoch_range, history.history['val_loss'])\n",
    "  plt.title('Model loss')\n",
    "  plt.ylabel('Loss')\n",
    "  plt.xlabel('Epoch')\n",
    "  plt.legend(['Train', 'Val'], loc='upper left')\n",
    "  plt.show()"
   ]
  },
  {
   "cell_type": "code",
   "execution_count": null,
   "id": "c4eea5f0",
   "metadata": {
    "scrolled": false
   },
   "outputs": [],
   "source": [
    " plot_learningCurve(history,20)"
   ]
  },
  {
   "cell_type": "markdown",
   "id": "6e0444a6",
   "metadata": {},
   "source": [
    "### Confusion Matrix"
   ]
  },
  {
   "cell_type": "code",
   "execution_count": null,
   "id": "1caaed93",
   "metadata": {
    "scrolled": false
   },
   "outputs": [],
   "source": [
    "from sklearn.metrics import confusion_matrix\n",
    "from mlxtend.plotting import plot_confusion_matrix\n",
    "\n",
    "\n",
    "#y_pred = model.predict_classes(X_test)\n",
    "#mat = confusion_matrix(y_test, y_pred)\n",
    "\n",
    "rounded_labels=np.argmax(y_test, axis=1)\n",
    "rounded_labels\n",
    "\n",
    "y_pred = model.predict_classes(X_test_scaled)\n",
    "mat = confusion_matrix(rounded_labels, y_pred)\n",
    "\n",
    "plot_confusion_matrix(conf_mat=mat)"
   ]
  },
  {
   "cell_type": "code",
   "execution_count": null,
   "id": "3924b596",
   "metadata": {},
   "outputs": [],
   "source": [
    "enc.categories_[0]"
   ]
  },
  {
   "cell_type": "code",
   "execution_count": null,
   "id": "7569b881",
   "metadata": {
    "scrolled": true
   },
   "outputs": [],
   "source": [
    "from sklearn.metrics import classification_report\n",
    "\n",
    "y_pred = model.predict(X_test_scaled, batch_size=64, verbose=1)\n",
    "y_pred_bool = np.argmax(y_pred, axis=1)\n",
    "\n",
    "print(classification_report(rounded_labels, y_pred_bool))"
   ]
  },
  {
   "cell_type": "markdown",
   "id": "01022611",
   "metadata": {},
   "source": [
    "![](f1score.PNG)"
   ]
  },
  {
   "cell_type": "code",
   "execution_count": null,
   "id": "d48896d7",
   "metadata": {
    "scrolled": true
   },
   "outputs": [],
   "source": [
    "enc.categories_[0]"
   ]
  },
  {
   "cell_type": "markdown",
   "id": "19cf8816",
   "metadata": {},
   "source": [
    "## Saving the model"
   ]
  },
  {
   "cell_type": "code",
   "execution_count": null,
   "id": "333aab84",
   "metadata": {},
   "outputs": [],
   "source": [
    "# Write out the Keras save file\n",
    "keras_file = \"driver_profiler_deploy_test2.h5\"\n",
    "model.save(keras_file)"
   ]
  },
  {
   "cell_type": "code",
   "execution_count": null,
   "id": "4089ddde",
   "metadata": {
    "scrolled": true
   },
   "outputs": [],
   "source": [
    "TF_LITE_NAME = \"driver_profiler_deploy_test.tflite\""
   ]
  },
  {
   "cell_type": "code",
   "execution_count": null,
   "id": "bcf58deb",
   "metadata": {},
   "outputs": [],
   "source": [
    "# Convert the model.\n",
    "converter = tf.lite.TFLiteConverter.from_keras_model(model)\n",
    "tflite_model = converter.convert()\n"
   ]
  }
 ],
 "metadata": {
  "kernelspec": {
   "display_name": "Python 3",
   "language": "python",
   "name": "python3"
  },
  "language_info": {
   "codemirror_mode": {
    "name": "ipython",
    "version": 3
   },
   "file_extension": ".py",
   "mimetype": "text/x-python",
   "name": "python",
   "nbconvert_exporter": "python",
   "pygments_lexer": "ipython3",
   "version": "3.8.11"
  }
 },
 "nbformat": 4,
 "nbformat_minor": 5
}
